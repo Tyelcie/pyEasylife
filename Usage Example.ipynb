{
 "cells": [
  {
   "cell_type": "code",
   "execution_count": 3,
   "metadata": {},
   "outputs": [],
   "source": [
    "import calendar\n",
    "import time\n",
    "import datetime\n",
    "import pandas as pd\n",
    "import numpy as np\n",
    "from itertools import compress"
   ]
  },
  {
   "cell_type": "markdown",
   "metadata": {},
   "source": [
    "# 排课\n",
    "\n",
    "## 先定义课节"
   ]
  },
  {
   "cell_type": "code",
   "execution_count": 93,
   "metadata": {},
   "outputs": [],
   "source": [
    "class Classes:\n",
    "    def __init__(self, name, duration):\n",
    "        self.name = name\n",
    "        self.duration = duration"
   ]
  },
  {
   "cell_type": "code",
   "execution_count": 94,
   "metadata": {},
   "outputs": [],
   "source": [
    "python_1on1 = Classes('Python 1on1', duration=40)"
   ]
  },
  {
   "cell_type": "markdown",
   "metadata": {},
   "source": [
    "## 定义检测冲突的函数"
   ]
  },
  {
   "cell_type": "code",
   "execution_count": 95,
   "metadata": {},
   "outputs": [],
   "source": [
    "def check_conflict(previous, plan, rest):\n",
    "    '''previous: list of tuples enveloping start time and end time\n",
    "       current: list of tuples enveloping start time and end time'''\n",
    "    buffle = datetime.timedelta(minutes = rest)\n",
    "    checked = [not (prvs[0]>= plan[1] + buffle or prvs[1] <= plan[0] - buffle) for prvs in previous]\n",
    "    conflict = list(compress(range(len(checked)), checked))\n",
    "    conf_class = [previous[i] for i in conflict]\n",
    "    return checked, conf_class"
   ]
  },
  {
   "cell_type": "markdown",
   "metadata": {},
   "source": [
    "## 检测老师可排课时间"
   ]
  },
  {
   "cell_type": "code",
   "execution_count": 96,
   "metadata": {},
   "outputs": [],
   "source": [
    "def check_available(available, plan):\n",
    "    checked = [avlb[0] <= plan[0] and avlb[1] >= plan[1] for avlb in available]\n",
    "    occupation = list(compress(range(len(checked)), checked))\n",
    "    return checked, occupation"
   ]
  },
  {
   "cell_type": "markdown",
   "metadata": {},
   "source": [
    "### Test"
   ]
  },
  {
   "cell_type": "code",
   "execution_count": 97,
   "metadata": {},
   "outputs": [],
   "source": [
    "available = [(datetime.datetime(2019, 2, 3, 19, 0), datetime.datetime(2019, 2, 3, 21, 0)),\n",
    "             (datetime.datetime(2019, 2, 5, 19, 0), datetime.datetime(2019, 2, 5, 21, 0))]"
   ]
  },
  {
   "cell_type": "code",
   "execution_count": 98,
   "metadata": {},
   "outputs": [
    {
     "data": {
      "text/plain": [
       "([True, False], [0])"
      ]
     },
     "execution_count": 98,
     "metadata": {},
     "output_type": "execute_result"
    }
   ],
   "source": [
    "plan = ((datetime.datetime(2019, 2, 3, 19, 50), datetime.datetime(2019, 2, 3, 20, 30)))\n",
    "check_available(available, plan)"
   ]
  },
  {
   "cell_type": "code",
   "execution_count": 99,
   "metadata": {},
   "outputs": [
    {
     "data": {
      "text/plain": [
       "([False, False], [])"
      ]
     },
     "execution_count": 99,
     "metadata": {},
     "output_type": "execute_result"
    }
   ],
   "source": [
    "plan = ((datetime.datetime(2019, 2, 3, 19, 50), datetime.datetime(2019, 2, 3, 21, 30)))\n",
    "check_available(available, plan)"
   ]
  },
  {
   "cell_type": "markdown",
   "metadata": {},
   "source": [
    "## 定义讲师"
   ]
  },
  {
   "cell_type": "code",
   "execution_count": 285,
   "metadata": {},
   "outputs": [],
   "source": [
    "class Lecturer:\n",
    "    def __init__(self, name, available, rest = 10, schedule = {}):\n",
    "        '''available: list of tuples enveloping start time and end time'''\n",
    "        self.name = name\n",
    "        self.__reg_available = available.copy()\n",
    "        self.available = available\n",
    "        self.rest = rest\n",
    "        self.schedule = schedule\n",
    "    def get_reg_available(self):\n",
    "        return self.__reg_available\n",
    "    def init_appointment(self, class_name, student, start):\n",
    "        self.classes = class_name\n",
    "        self.start = start\n",
    "        plan = (self.start, self.start + datetime.timedelta(minutes = self.classes.duration))\n",
    "        availability, occupation =  check_available(self.available, plan)\n",
    "        if any(availability):\n",
    "            previous = np.concatenate(list(self.schedule.values())) if bool(self.schedule) else list(self.schedule.values())\n",
    "            conflict, conf_class = check_conflict(previous, plan, self.rest)\n",
    "            if any(conflict):\n",
    "                print('老师在{}这段时间内有课，而且请给老师{}分钟休息时间，另行安排!'.format(conf_class, self.rest))\n",
    "            else:\n",
    "                self.end = self.start + datetime.timedelta(minutes = self.classes.duration)\n",
    "                print('没问题，该时间段内老师可排课！')\n",
    "                if student not in self.schedule.keys():\n",
    "                    self.schedule[student] = [(self.start, self.end)]\n",
    "                else:\n",
    "                    self.schedule[student].extend([(self.start, self.end)])\n",
    "                for i in occupation:\n",
    "                    insertee = [(self.available[i][0], plan[0]),\n",
    "                                (plan[1], self.available[i][1])]\n",
    "                    insertee = list(filter(lambda x: x[1] > x[0], insertee))\n",
    "                    del self.available[i]\n",
    "                    self.available[i:i] = insertee\n",
    "        else:\n",
    "            print('老师有安排了，请考虑以下时间段：\\n{}'.format(self.available))\n",
    "    def change_appointment(self, student, which, proposal):\n",
    "        prop_end = proposal + datetime.timedelta(minutes = self.classes.duration)\n",
    "        availability, occupation =  check_available(self.available, (proposal, prop_end))\n",
    "        if any(availability):\n",
    "            previous = np.concatenate(list(self.schedule.values())) if bool(self.schedule) else list(self.schedule.values())\n",
    "            conflict, conf_class = check_conflict(previous, (proposal, prop_end), self.rest)\n",
    "            if any(conflict):\n",
    "                print('老师在{}这段时间内有课，而且请给老师{}分钟休息时间，另行安排!'.format(conf_class, self.rest))\n",
    "            else:\n",
    "                print('没问题，该时间段内老师可排课！')\n",
    "                self.schedule[student][which] = (proposal, prop_end)\n",
    "                # TODO： roll back available time\n",
    "                self.available.extend(self.schedule[student][which])\n",
    "        else:\n",
    "            print('老师有安排了，请考虑以下时间段：\\n{}'.format(self.available))"
   ]
  },
  {
   "cell_type": "markdown",
   "metadata": {},
   "source": [
    "定义讲师李海"
   ]
  },
  {
   "cell_type": "code",
   "execution_count": 298,
   "metadata": {},
   "outputs": [
    {
     "name": "stdout",
     "output_type": "stream",
     "text": [
      "讲师姓名：李海\n",
      "讲师可排课时间：[(datetime.datetime(2019, 2, 3, 19, 0), datetime.datetime(2019, 2, 3, 21, 0)), (datetime.datetime(2019, 2, 5, 19, 0), datetime.datetime(2019, 2, 5, 21, 0))]\n"
     ]
    }
   ],
   "source": [
    "Lihai = Lecturer(name = '李海', available = [(datetime.datetime(2019, 2, 3, 19, 0), datetime.datetime(2019, 2, 3, 21, 0)),\n",
    "                                             (datetime.datetime(2019, 2, 5, 19, 0), datetime.datetime(2019, 2, 5, 21, 0))])\n",
    "print('讲师姓名：{}'.format(Lihai.name))\n",
    "print('讲师可排课时间：{}'.format(Lihai.available))"
   ]
  },
  {
   "cell_type": "markdown",
   "metadata": {},
   "source": [
    "初次预约课程。"
   ]
  },
  {
   "cell_type": "code",
   "execution_count": 299,
   "metadata": {
    "scrolled": true
   },
   "outputs": [
    {
     "name": "stdout",
     "output_type": "stream",
     "text": [
      "老师在[array([datetime.datetime(2019, 2, 3, 19, 30),\n",
      "       datetime.datetime(2019, 2, 3, 20, 10)], dtype=object)]这段时间内有课，而且请给老师10分钟休息时间，另行安排!\n",
      "李海老师，你的课程表如下：\n",
      "{'Libai': [(datetime.datetime(2019, 2, 3, 19, 30), datetime.datetime(2019, 2, 3, 20, 10))], 'DuPu': [(datetime.datetime(2019, 2, 5, 20, 0), datetime.datetime(2019, 2, 5, 20, 40)), (datetime.datetime(2019, 2, 3, 20, 20), datetime.datetime(2019, 2, 3, 21, 0))]}\n",
      "请提前做好准备！\n",
      "老师的剩余可用时间为\n",
      "[(datetime.datetime(2019, 2, 3, 19, 0), datetime.datetime(2019, 2, 3, 21, 0)), (datetime.datetime(2019, 2, 5, 19, 0), datetime.datetime(2019, 2, 5, 21, 0))]\n"
     ]
    }
   ],
   "source": [
    "Lihai.init_appointment(python_1on1, 'Libai', start=(datetime.datetime(2019, 2, 3, 19, 30)))\n",
    "print('{}老师，你的课程表如下：\\n{}\\n请提前做好准备！'.format(Lihai.name, Lihai.schedule))\n",
    "print('老师的剩余可用时间为\\n{}'.format(Lihai.available))"
   ]
  },
  {
   "cell_type": "markdown",
   "metadata": {},
   "source": [
    "给第二个学生预约课程："
   ]
  },
  {
   "cell_type": "code",
   "execution_count": 296,
   "metadata": {},
   "outputs": [
    {
     "name": "stdout",
     "output_type": "stream",
     "text": [
      "老师有安排了，请考虑以下时间段：\n",
      "[(datetime.datetime(2019, 2, 3, 19, 0), datetime.datetime(2019, 2, 3, 20, 20)), (datetime.datetime(2019, 2, 5, 19, 0), datetime.datetime(2019, 2, 5, 21, 0))]\n",
      "李海老师，你的课程表如下：\n",
      "{'Libai': [(datetime.datetime(2019, 2, 3, 19, 30), datetime.datetime(2019, 2, 3, 20, 10))], 'DuPu': [(datetime.datetime(2019, 2, 5, 20, 0), datetime.datetime(2019, 2, 5, 20, 40)), (datetime.datetime(2019, 2, 3, 20, 20), datetime.datetime(2019, 2, 3, 21, 0))]}\n",
      "请提前做好准备！\n",
      "老师的剩余可用时间为\n",
      "[(datetime.datetime(2019, 2, 3, 19, 0), datetime.datetime(2019, 2, 3, 20, 20)), (datetime.datetime(2019, 2, 5, 19, 0), datetime.datetime(2019, 2, 5, 21, 0))]\n"
     ]
    }
   ],
   "source": [
    "Lihai.init_appointment(python_1on1, 'DuPu', start=((datetime.datetime(2019, 2, 3, 20, 20))))\n",
    "print('{}老师，你的课程表如下：\\n{}\\n请提前做好准备！'.format(Lihai.name, Lihai.schedule))\n",
    "print('老师的剩余可用时间为\\n{}'.format(Lihai.available))"
   ]
  },
  {
   "cell_type": "markdown",
   "metadata": {},
   "source": [
    "杜同学要调课"
   ]
  },
  {
   "cell_type": "code",
   "execution_count": 297,
   "metadata": {},
   "outputs": [
    {
     "name": "stdout",
     "output_type": "stream",
     "text": [
      "老师在[array([datetime.datetime(2019, 2, 5, 20, 0),\n",
      "       datetime.datetime(2019, 2, 5, 20, 40)], dtype=object)]这段时间内有课，而且请给老师10分钟休息时间，另行安排!\n",
      "李海老师，你的课程表如下：\n",
      "{'Libai': [(datetime.datetime(2019, 2, 3, 19, 30), datetime.datetime(2019, 2, 3, 20, 10))], 'DuPu': [(datetime.datetime(2019, 2, 5, 20, 0), datetime.datetime(2019, 2, 5, 20, 40)), (datetime.datetime(2019, 2, 3, 20, 20), datetime.datetime(2019, 2, 3, 21, 0))]}\n",
      "请提前做好准备！\n",
      "老师的剩余可用时间为\n",
      "[(datetime.datetime(2019, 2, 3, 19, 0), datetime.datetime(2019, 2, 3, 20, 20)), (datetime.datetime(2019, 2, 5, 19, 0), datetime.datetime(2019, 2, 5, 21, 0))]\n"
     ]
    }
   ],
   "source": [
    "Lihai.change_appointment('DuPu', 0, datetime.datetime(2019, 2, 5, 20,0))\n",
    "print('{}老师，你的课程表如下：\\n{}\\n请提前做好准备！'.format(Lihai.name, Lihai.schedule))\n",
    "print('老师的剩余可用时间为\\n{}'.format(Lihai.available))"
   ]
  },
  {
   "cell_type": "code",
   "execution_count": null,
   "metadata": {},
   "outputs": [],
   "source": [
    "class Schedule:\n",
    "    def __init__(self, year, month):\n",
    "        self.year = year\n",
    "        self.month = month\n",
    "    def term(self, lenghth):\n",
    "        cale = calendar.Calendar()\n",
    "        self.term_length = lenghth\n",
    "        month_span = self.term_length // 28 +1\n",
    "        schedule = cale.monthdatescalendar(year=self.year, month=self.month)\n",
    "        schedule = pd.DataFrame(schedule,columns = calendar.weekheader(6).strip().split('    ')).iloc[:4]\n",
    "#         schedule = pd.DataFrame(columns = calendar.weekheader(6).strip().split('    '))\n",
    "        for i in range(1,month_span):\n",
    "            schedule_i = cale.monthdatescalendar(year=self.year, month=self.month + i)\n",
    "            schedule_i = pd.DataFrame(schedule_i,columns = calendar.weekheader(6).strip().split('    '))\n",
    "            schedule = schedule.append(schedule_i)\n",
    "            schedule.reset_index(drop=True, inplace=True)\n",
    "        return schedule"
   ]
  },
  {
   "cell_type": "code",
   "execution_count": null,
   "metadata": {},
   "outputs": [],
   "source": [
    "Schedule(2019, 1).term(124)"
   ]
  },
  {
   "cell_type": "code",
   "execution_count": null,
   "metadata": {},
   "outputs": [],
   "source": [
    "18*7"
   ]
  },
  {
   "cell_type": "code",
   "execution_count": null,
   "metadata": {},
   "outputs": [],
   "source": [
    "class Lecturer:\n",
    "    def __init__(self, name, available):\n",
    "        self.name = str(name),\n",
    "        self.available = available\n",
    "    def end(self, duration):\n",
    "        '''calculate where his class will ends'''\n",
    "        ends = []\n",
    "        for i in self.available:\n",
    "            ends.append(i+ datetime.timedelta(minutes = duration))\n",
    "        return ends\n",
    "    def assign(self, schedual):\n",
    "        '''assign his available time to te schedual'''\n",
    "        for i in self.available:\n",
    "            date = i.year\n",
    "            loc = schedual.loc('')"
   ]
  },
  {
   "cell_type": "code",
   "execution_count": null,
   "metadata": {},
   "outputs": [],
   "source": [
    "Lihai = Lecturer(name='李海', available=[datetime.datetime(2019, 2, 3, 19, 0), datetime.datetime(2019, 2, 5, 10, 0)])\n",
    "datetime.datetime(2019, 1, 23, 19, 0, 0)"
   ]
  },
  {
   "cell_type": "code",
   "execution_count": null,
   "metadata": {},
   "outputs": [],
   "source": [
    "schedual['Mon'][1] == datetime.datetime(2019, 2, 4)"
   ]
  },
  {
   "cell_type": "markdown",
   "metadata": {},
   "source": [
    "# 尝试群发学习计划"
   ]
  },
  {
   "cell_type": "code",
   "execution_count": null,
   "metadata": {},
   "outputs": [],
   "source": [
    "import pandas as pd\n",
    "import itchat as ic"
   ]
  },
  {
   "cell_type": "code",
   "execution_count": null,
   "metadata": {},
   "outputs": [],
   "source": [
    "ic.auto_login()"
   ]
  },
  {
   "cell_type": "markdown",
   "metadata": {},
   "source": [
    "获取单个用户的ID"
   ]
  },
  {
   "cell_type": "code",
   "execution_count": null,
   "metadata": {},
   "outputs": [],
   "source": [
    "userID = ic.search_friends(name='Udacity-Tyelcie')[0]['UserName']\n",
    "userID"
   ]
  },
  {
   "cell_type": "markdown",
   "metadata": {},
   "source": [
    "获取群ID"
   ]
  },
  {
   "cell_type": "code",
   "execution_count": null,
   "metadata": {},
   "outputs": [],
   "source": [
    "chatroomID = ic.search_chatrooms('测试')[0]['UserName']\n",
    "chatroomID"
   ]
  },
  {
   "cell_type": "markdown",
   "metadata": {},
   "source": [
    "发文字消息"
   ]
  },
  {
   "cell_type": "code",
   "execution_count": null,
   "metadata": {},
   "outputs": [],
   "source": [
    "ic.send('https://shimo.im/sheet/xwJ8FkJhUcUKeXyM/', toUserName=userID)"
   ]
  },
  {
   "cell_type": "markdown",
   "metadata": {},
   "source": [
    "发图片消息"
   ]
  },
  {
   "cell_type": "code",
   "execution_count": null,
   "metadata": {},
   "outputs": [],
   "source": [
    "ic.send_image('../stobserver/test.jpg', toUserName=chatroomID)"
   ]
  },
  {
   "cell_type": "markdown",
   "metadata": {},
   "source": [
    "## 简单粗暴地抓取石墨文档表格\n",
    "\n",
    "把要抓的内容选中，Ctrl+C，然后用`pd.read_clipboard()`从剪贴板读取数据。"
   ]
  },
  {
   "cell_type": "code",
   "execution_count": null,
   "metadata": {},
   "outputs": [],
   "source": [
    "students = pd.read_clipboard(sep='\\t')\n",
    "students.head(3)"
   ]
  },
  {
   "cell_type": "markdown",
   "metadata": {},
   "source": [
    "如果要群发消息，注意修改任务序列和消息模板："
   ]
  },
  {
   "cell_type": "code",
   "execution_count": null,
   "metadata": {
    "scrolled": false
   },
   "outputs": [],
   "source": [
    "task_seq = 'Task 1'\n",
    "msg_template = 'Hello，{}同学，接下来三天你需要完成的任务是：\\n\\n{}'\n",
    "def send_task_group(task_seq, msg_template, students_df):\n",
    "    for i in range(1, len(students_df)):\n",
    "        student = students_df['姓名'][i]\n",
    "        userID = ic.search_friends(name=student)[0]['UserName']\n",
    "        personal_task = students_df[task_seq][i]\n",
    "        msg = msg_template.format(student, personal_task)\n",
    "        ic.send(msg, userID)"
   ]
  },
  {
   "cell_type": "code",
   "execution_count": null,
   "metadata": {},
   "outputs": [],
   "source": [
    "task_seq = 'Task 1'\n",
    "msg_template = 'Hello，{}同学，接下来三天你需要完成的任务是：\\n\\n{}'\n",
    "send_task_group(task_seq, msg_template, students)"
   ]
  },
  {
   "cell_type": "markdown",
   "metadata": {},
   "source": [
    "如果需要单独发消息，注意修改学生姓名、任务序列和消息模板："
   ]
  },
  {
   "cell_type": "code",
   "execution_count": null,
   "metadata": {},
   "outputs": [],
   "source": [
    "student = 'Udacity-Tyelcie'\n",
    "task_seq = 'Task 1'\n",
    "msg_template = 'Hello，{}同学，接下来三天你需要完成的任务是：\\n\\n{}'\n",
    "\n",
    "def send_task_personal(student_name, task_seq, msg_template, students_df):\n",
    "    stu_pos = list(filter(lambda x: students_df['姓名'][x] == student_name, students_df.index.tolist()))[0]\n",
    "    msg = msg_template.format(student_name, students_df[task_seq][stu_pos])\n",
    "    userID = ic.search_friends(name=student_name)[0]['UserName']\n",
    "    ic.send(msg, userID)"
   ]
  },
  {
   "cell_type": "code",
   "execution_count": null,
   "metadata": {},
   "outputs": [],
   "source": [
    "send_task_personal('Udacity-Tyelcie', task_seq, msg_template, students)"
   ]
  }
 ],
 "metadata": {
  "kernelspec": {
   "display_name": "Python 3",
   "language": "python",
   "name": "python3"
  },
  "language_info": {
   "codemirror_mode": {
    "name": "ipython",
    "version": 3
   },
   "file_extension": ".py",
   "mimetype": "text/x-python",
   "name": "python",
   "nbconvert_exporter": "python",
   "pygments_lexer": "ipython3",
   "version": "3.7.1"
  }
 },
 "nbformat": 4,
 "nbformat_minor": 2
}
