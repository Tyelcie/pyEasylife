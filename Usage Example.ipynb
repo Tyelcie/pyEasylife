{
 "cells": [
  {
   "cell_type": "code",
   "execution_count": 3,
   "metadata": {},
   "outputs": [],
   "source": [
    "import calendar\n",
    "import time\n",
    "import datetime\n",
    "import pandas as pd\n",
    "import numpy as np\n",
    "from itertools import compress\n",
    "import stanager.scheduling as ss\n",
    "import sys\n",
    "sys.path.insert(0, './stanager')\n",
    "import scheduling"
   ]
  },
  {
   "cell_type": "markdown",
   "metadata": {},
   "source": [
    "# 排课"
   ]
  },
  {
   "cell_type": "markdown",
   "metadata": {},
   "source": [
    "## 定义课节"
   ]
  },
  {
   "cell_type": "code",
   "execution_count": null,
   "metadata": {},
   "outputs": [],
   "source": [
    "python_1on1 = ss.Classes('Python 1on1', duration=90)"
   ]
  },
  {
   "cell_type": "markdown",
   "metadata": {},
   "source": [
    "## 检测老师可排课时间"
   ]
  },
  {
   "cell_type": "code",
   "execution_count": null,
   "metadata": {},
   "outputs": [],
   "source": [
    "mentor_names = ['CHR', 'HL', 'FJ', 'YB', 'ZBF', 'JSJ', 'LH', 'WXY', 'QHD']\n",
    "mentors = {}\n",
    "for mt in mentor_names:\n",
    "    mentors[mt] = pd.read_excel('../../Python_1on1/Mentors_available_time.xlsx', sheet_name=mt, index_col=0)\\\n",
    "    .drop(['周', '每日空闲时间', '最少可排课时'], axis = 0).drop(['Unnamed: 14'], axis = 1)\n",
    "mentors['HL']"
   ]
  },
  {
   "cell_type": "code",
   "execution_count": null,
   "metadata": {},
   "outputs": [],
   "source": [
    "date = mentors['HL'].columns\n",
    "time = mentors['HL'].index\n",
    "time\n",
    "\n",
    "# for x in time:\n",
    "#     for y in date:\n",
    "#         if mentors['HL'].loc[x, y] == 1:\n",
    "            \n",
    "# avlb = \n",
    "# avlb == 1"
   ]
  },
  {
   "cell_type": "code",
   "execution_count": null,
   "metadata": {},
   "outputs": [],
   "source": [
    "start_h, end_h = tuple(datetime.datetime.strptime(x, '%H:%M').hour for x in mentors['HL'].index[0].split('-'))\n",
    "start = [x + datetime.timedelta(hours = start_h) for x in mentors['HL'].columns]"
   ]
  },
  {
   "cell_type": "code",
   "execution_count": null,
   "metadata": {},
   "outputs": [],
   "source": [
    "start_1 = '2019-02-03 19:00'\n",
    "end_1 = '2019-02-03 21:00'\n",
    "start_2 = '2019-02-05 19:00'\n",
    "end_2 = '2019-02-05 21:00'\n",
    "available = [(start_1, end_1), (start_2, end_2)]\n",
    "available = [tuple(map(parse_time, (a, b))) for (a, b) in available]\n",
    "# parse_time(end_1).strftime('%Y-%m-%d %H:%M')\n",
    "# [tuple(map(parse_time, (a, b))) for (a, b) in []]"
   ]
  },
  {
   "cell_type": "code",
   "execution_count": null,
   "metadata": {},
   "outputs": [],
   "source": [
    "check_available(available, (datetime.datetime(2019, 2, 3, 19,20), datetime.datetime(2019, 2, 3, 20,0)))\n",
    "check_conflict(available, (datetime.datetime(2019, 2, 3, 19,20), datetime.datetime(2019, 2, 3, 20,0)), 10)"
   ]
  },
  {
   "cell_type": "markdown",
   "metadata": {},
   "source": [
    "## 定义讲师"
   ]
  },
  {
   "cell_type": "code",
   "execution_count": null,
   "metadata": {},
   "outputs": [],
   "source": [
    "class Mentor:\n",
    "    def __init__(self, name, available, min_per_day, rest = 10, schedule = {}):\n",
    "        '''available: list of tuples enveloping start time and end time'''\n",
    "        self.name = name\n",
    "        self.__reg_available = available.copy()\n",
    "        self.available = available\n",
    "        self.rest = rest\n",
    "        self.min_per_day = min_per_day\n",
    "        self.schedule = schedule\n",
    "    def get_reg_available(self):\n",
    "        return self.__reg_available\n",
    "    \n",
    "    def init_appointment(self, your_class, student, start):\n",
    "        self.classes = your_class\n",
    "        available_parse = [tuple(map(parse_time, (a, b))) for (a, b) in self.available]\n",
    "        proposal = (parse_time(start), parse_time(start) + datetime.timedelta(minutes = your_class.duration))\n",
    "        availability, occupation = check_available(available_parse, proposal)\n",
    "        if any(availability):\n",
    "            previous = np.concatenate(list(self.schedule.values())) if bool(self.schedule) else list(self.schedule.values())\n",
    "            previous = [tuple(map(parse_time, (a, b))) for (a, b) in previous]\n",
    "            conflict, conf_class = check_conflict(previous, proposal, self.rest)\n",
    "            if any(conflict):\n",
    "                conf_class = tuple(map(lambda x: x.strftime('%Y-%m-%d %H:%M'), conf_class))\n",
    "                print('老师在{}-{}这段时间内有课，而且请给老师{}分钟休息时间，另行安排!'.format(conf_class[0], conf_class[1], self.rest))\n",
    "            else:\n",
    "                end = parse_time(start) + datetime.timedelta(minutes = self.classes.duration)\n",
    "                print('没问题，该时间段内老师可排课！')\n",
    "                if student.name not in self.schedule.keys():\n",
    "                    self.schedule[student.name] = [(start, end.strftime('%Y-%m-%d %H:%M'))]\n",
    "                else:\n",
    "                    self.schedule[student.name].extend([(start, end.strftime('%Y-%m-%d %H:%M'))])\n",
    "                # 剩余时间\n",
    "                available_parse = [tuple(map(parse_time, (a, b))) for (a, b) in self.available]\n",
    "                for i in occupation:\n",
    "                    insertee = [(available_parse[i][0], parse_time(start)),\n",
    "                                (end, available_parse[i][1])]\n",
    "                    insertee = list(filter(lambda x: x[1] > x[0], insertee))\n",
    "                    insertee = [tuple(map(lambda x: x.strftime('%Y-%m-%d %H:%M'), (a, b))) for (a, b) in insertee]\n",
    "                    del self.available[i]\n",
    "                    self.available[i:i] = insertee\n",
    "        else:\n",
    "            print('老师有安排了，请考虑以下时间段：\\n{}'.format(self.available))\n",
    "    def change_appointment(self, student, which, prop_start):\n",
    "        prop_end = parse_time(prop_start) + datetime.timedelta(minutes = self.classes.duration)\n",
    "        available_parse = [tuple(map(parse_time, (a, b))) for (a, b) in self.available]\n",
    "        availability, occupation =  check_available(available_parse, (parse_time(prop_start), prop_end))\n",
    "        if any(availability):\n",
    "            previous = np.concatenate(list(self.schedule.values())) if bool(self.schedule) else list(self.schedule.values())\n",
    "            previous = [tuple(map(parse_time, (a, b))) for (a, b) in previous]\n",
    "            conflict, conf_class = check_conflict(previous, (parse_time(prop_start), prop_end), self.rest)\n",
    "            conf_class = tuple(map(parse_time, conf_class))\n",
    "            if any(conflict):\n",
    "                print('老师在{}-{}这段时间内有课，而且请给老师{}分钟休息时间，另行安排!'.format(conf_class[0], conf_class[1], self.rest))\n",
    "            else:\n",
    "                print('没问题，该时间段内老师可排课！')\n",
    "                self.available.append(self.schedule[student.name][which])\n",
    "                self.available = sorted([x for x in self.available])           \n",
    "                while any([self.available[i][0] == self.available[i-1][1] for i in range(1, len(self.available))]):\n",
    "                    del_idx = list(filter(lambda i: self.available[i][0] == self.available[i-1][1], range(1, len(self.available))))\n",
    "                    idx = list(filter(lambda i: not self.available[i][0] == self.available[i-1][1], range(1, len(self.available))))\n",
    "                    idx.append(0)\n",
    "                    for i in del_idx:\n",
    "                        self.available[i-1] = (self.available[i-1][0], self.available[i][1])\n",
    "                    self.available = sorted([self.available[x] for x in idx])\n",
    "    \n",
    "                self.schedule[student.name][which] = (prop_start, prop_end.strftime('%Y-%m-%d %H:%M'))\n",
    "\n",
    "        else:\n",
    "            print('老师有安排了，请考虑以下时间段：\\n{}'.format(self.available))"
   ]
  },
  {
   "cell_type": "markdown",
   "metadata": {},
   "source": [
    "## 定义学生"
   ]
  },
  {
   "cell_type": "code",
   "execution_count": null,
   "metadata": {},
   "outputs": [],
   "source": [
    "class Student:\n",
    "    def __init__(self, name, available, schedule = {}):\n",
    "        self.name = name\n",
    "        self.__reg_available = available.copy()\n",
    "        self.available = available\n",
    "        self.schedule = schedule\n",
    "    def find_lecturer(self, lecturers):\n",
    "        pass"
   ]
  },
  {
   "cell_type": "markdown",
   "metadata": {},
   "source": [
    "定义讲师李海"
   ]
  },
  {
   "cell_type": "code",
   "execution_count": null,
   "metadata": {},
   "outputs": [],
   "source": [
    "Lihai = Mentor(name = 'LH', available = [(start_1, end_1),\n",
    "                                             (start_2, end_2)])\n",
    "print('讲师姓名：{}'.format(Lihai.name))\n",
    "print('讲师可排课时间：{}'.format(Lihai.available))"
   ]
  },
  {
   "cell_type": "markdown",
   "metadata": {},
   "source": [
    "定义学生李白"
   ]
  },
  {
   "cell_type": "code",
   "execution_count": null,
   "metadata": {},
   "outputs": [],
   "source": [
    "LiBai = Student('李白', [('2019-02-03 14:00', '2019-02-03 18:00'),\n",
    "                         ('2019-02-03 20:00', '2019-02-03 22:00'),\n",
    "                         ('2019-02-05 20:00', '2019-02-05 22:00')])"
   ]
  },
  {
   "cell_type": "markdown",
   "metadata": {},
   "source": [
    "定义学生杜甫"
   ]
  },
  {
   "cell_type": "code",
   "execution_count": null,
   "metadata": {},
   "outputs": [],
   "source": [
    "DuFu = Student('杜甫', [('2019-02-03 20:00', '2019-02-03 22:00'),\n",
    "                         ('2019-02-05 14:00', '2019-02-05 16:00'),\n",
    "                         ('2019-02-05 20:00', '2019-02-05 22:00')])"
   ]
  },
  {
   "cell_type": "markdown",
   "metadata": {},
   "source": [
    "初次预约课程。"
   ]
  },
  {
   "cell_type": "code",
   "execution_count": null,
   "metadata": {
    "scrolled": true
   },
   "outputs": [],
   "source": [
    "Lihai.init_appointment(python_1on1, LiBai, start= '2019-02-03 19:30')\n",
    "print('{}老师，你的课程表如下：\\n{}\\n请提前做好准备！'.format(Lihai.name, Lihai.schedule))\n",
    "print('老师的剩余可用时间为\\n{}'.format(Lihai.available))"
   ]
  },
  {
   "cell_type": "markdown",
   "metadata": {},
   "source": [
    "给第二个学生预约课程："
   ]
  },
  {
   "cell_type": "code",
   "execution_count": null,
   "metadata": {
    "scrolled": true
   },
   "outputs": [],
   "source": [
    "Lihai.init_appointment(python_1on1, DuFu, start= '2019-02-03 20:20')\n",
    "print('{}老师，你的课程表如下：\\n{}\\n请提前做好准备！'.format(Lihai.name, Lihai.schedule))\n",
    "print('老师的剩余可用时间为\\n{}'.format(Lihai.available))"
   ]
  },
  {
   "cell_type": "markdown",
   "metadata": {},
   "source": [
    "杜同学要排第二节课"
   ]
  },
  {
   "cell_type": "code",
   "execution_count": null,
   "metadata": {},
   "outputs": [],
   "source": [
    "Lihai.init_appointment(python_1on1, DuFu, start= '2019-02-05 20:20')\n",
    "print('{}老师，你的课程表如下：\\n{}\\n请提前做好准备！'.format(Lihai.name, Lihai.schedule))\n",
    "print('老师的剩余可用时间为\\n{}'.format(Lihai.available))"
   ]
  },
  {
   "cell_type": "markdown",
   "metadata": {},
   "source": [
    "杜同学要调课"
   ]
  },
  {
   "cell_type": "code",
   "execution_count": null,
   "metadata": {
    "scrolled": true
   },
   "outputs": [],
   "source": [
    "Lihai.change_appointment(DuFu, 0, '2019-02-05 19:00')\n",
    "print('{}老师，你的课程表如下：\\n{}\\n请提前做好准备！'.format(Lihai.name, Lihai.schedule))\n",
    "print('老师的剩余可用时间为\\n{}'.format(Lihai.available))"
   ]
  },
  {
   "cell_type": "markdown",
   "metadata": {},
   "source": [
    "李白同学的课程表："
   ]
  },
  {
   "cell_type": "code",
   "execution_count": null,
   "metadata": {},
   "outputs": [],
   "source": [
    "LiBai.schedule = Lihai.schedule[LiBai.name]\n",
    "LiBai.schedule"
   ]
  },
  {
   "cell_type": "markdown",
   "metadata": {},
   "source": [
    "杜甫同学的课表："
   ]
  },
  {
   "cell_type": "code",
   "execution_count": null,
   "metadata": {},
   "outputs": [],
   "source": [
    "DuFu.schedule = Lihai.schedule[DuFu.name]\n",
    "DuFu.schedule"
   ]
  },
  {
   "cell_type": "markdown",
   "metadata": {},
   "source": [
    "## TBD\n",
    "\n",
    "* 如何匹配合适的老师？\n",
    "\n",
    "* 如何找到一段合适的上课时间？"
   ]
  },
  {
   "cell_type": "code",
   "execution_count": null,
   "metadata": {},
   "outputs": [],
   "source": [
    "class Schedule:\n",
    "    def __init__(self, year, month):\n",
    "        self.year = year\n",
    "        self.month = month\n",
    "    def term(self, lenghth):\n",
    "        cale = calendar.Calendar()\n",
    "        self.term_length = lenghth\n",
    "        month_span = self.term_length // 28 +1\n",
    "        schedule = cale.monthdatescalendar(year=self.year, month=self.month)\n",
    "        schedule = pd.DataFrame(schedule,columns = calendar.weekheader(6).strip().split('    ')).iloc[:4]\n",
    "#         schedule = pd.DataFrame(columns = calendar.weekheader(6).strip().split('    '))\n",
    "        for i in range(1,month_span):\n",
    "            schedule_i = cale.monthdatescalendar(year=self.year, month=self.month + i)\n",
    "            schedule_i = pd.DataFrame(schedule_i,columns = calendar.weekheader(6).strip().split('    '))\n",
    "            schedule = schedule.append(schedule_i)\n",
    "            schedule.reset_index(drop=True, inplace=True)\n",
    "        return schedule"
   ]
  },
  {
   "cell_type": "code",
   "execution_count": null,
   "metadata": {},
   "outputs": [],
   "source": [
    "Schedule(2019, 1).term(124)"
   ]
  },
  {
   "cell_type": "code",
   "execution_count": null,
   "metadata": {},
   "outputs": [],
   "source": [
    "18*7"
   ]
  },
  {
   "cell_type": "code",
   "execution_count": null,
   "metadata": {},
   "outputs": [],
   "source": [
    "class Lecturer:\n",
    "    def __init__(self, name, available):\n",
    "        self.name = str(name),\n",
    "        self.available = available\n",
    "    def end(self, duration):\n",
    "        '''calculate where his class will ends'''\n",
    "        ends = []\n",
    "        for i in self.available:\n",
    "            ends.append(i+ datetime.timedelta(minutes = duration))\n",
    "        return ends\n",
    "    def assign(self, schedual):\n",
    "        '''assign his available time to te schedual'''\n",
    "        for i in self.available:\n",
    "            date = i.year\n",
    "            loc = schedual.loc('')"
   ]
  },
  {
   "cell_type": "code",
   "execution_count": null,
   "metadata": {},
   "outputs": [],
   "source": [
    "Lihai = Lecturer(name='李海', available=[datetime.datetime(2019, 2, 3, 19, 0), datetime.datetime(2019, 2, 5, 10, 0)])\n",
    "datetime.datetime(2019, 1, 23, 19, 0, 0)"
   ]
  },
  {
   "cell_type": "markdown",
   "metadata": {},
   "source": [
    "schedual['Mon'][1] == `datetime.datetime(2019, 2, 4)"
   ]
  },
  {
   "cell_type": "code",
   "execution_count": null,
   "metadata": {},
   "outputs": [],
   "source": [
    "url = 'https://docs.google.com/spreadsheets/d/1SsJ8IXLczjE8JTkUDFLCzSe66agAA7Rt0RA6hFbJcZ4/export?format=csv&gid=585202811'"
   ]
  },
  {
   "cell_type": "code",
   "execution_count": null,
   "metadata": {},
   "outputs": [],
   "source": [
    "import pandas as pd\n",
    "pd.read_csv(url).head()"
   ]
  },
  {
   "cell_type": "markdown",
   "metadata": {},
   "source": [
    "## 排课表release版"
   ]
  },
  {
   "cell_type": "code",
   "execution_count": 1,
   "metadata": {},
   "outputs": [],
   "source": [
    "start = '2019-03-27'\n",
    "end = '2019-06-26'\n",
    "def date_range(start, end):\n",
    "    datelen = (scheduling.parse_time(end, str_format = '%Y-%m-%d') - scheduling.parse_time(start, str_format = '%Y-%m-%d')).days\n",
    "    daterange = []\n",
    "    for i in range(datelen+1):\n",
    "        new_day = scheduling.parse_time(start, '%Y-%m-%d') + datetime.timedelta(days = i)\n",
    "        daterange.append(new_day.strftime('%Y-%m-%d'))\n",
    "    return daterange"
   ]
  },
  {
   "cell_type": "code",
   "execution_count": 2,
   "metadata": {},
   "outputs": [
    {
     "ename": "NameError",
     "evalue": "name 'scheduling' is not defined",
     "output_type": "error",
     "traceback": [
      "\u001b[1;31m---------------------------------------------------------------------------\u001b[0m",
      "\u001b[1;31mNameError\u001b[0m                                 Traceback (most recent call last)",
      "\u001b[1;32m<ipython-input-2-61843a9ccf5f>\u001b[0m in \u001b[0;36m<module>\u001b[1;34m\u001b[0m\n\u001b[1;32m----> 1\u001b[1;33m \u001b[0mdaterange\u001b[0m \u001b[1;33m=\u001b[0m \u001b[0mdate_range\u001b[0m\u001b[1;33m(\u001b[0m\u001b[0mstart\u001b[0m\u001b[1;33m,\u001b[0m \u001b[0mend\u001b[0m\u001b[1;33m)\u001b[0m\u001b[1;33m\u001b[0m\u001b[1;33m\u001b[0m\u001b[0m\n\u001b[0m\u001b[0;32m      2\u001b[0m \u001b[0mparsed_start\u001b[0m \u001b[1;33m=\u001b[0m \u001b[0mscheduling\u001b[0m\u001b[1;33m.\u001b[0m\u001b[0mparse_time\u001b[0m\u001b[1;33m(\u001b[0m\u001b[0mstart\u001b[0m\u001b[1;33m,\u001b[0m \u001b[0mstr_format\u001b[0m \u001b[1;33m=\u001b[0m \u001b[1;34m'%Y-%m-%d'\u001b[0m\u001b[1;33m)\u001b[0m\u001b[1;33m\u001b[0m\u001b[1;33m\u001b[0m\u001b[0m\n\u001b[0;32m      3\u001b[0m \u001b[0mcalendar\u001b[0m\u001b[1;33m.\u001b[0m\u001b[0mweekday\u001b[0m\u001b[1;33m(\u001b[0m\u001b[0mparsed_start\u001b[0m\u001b[1;33m.\u001b[0m\u001b[0myear\u001b[0m\u001b[1;33m,\u001b[0m \u001b[0mparsed_start\u001b[0m\u001b[1;33m.\u001b[0m\u001b[0mmonth\u001b[0m\u001b[1;33m,\u001b[0m \u001b[0mparsed_start\u001b[0m\u001b[1;33m.\u001b[0m\u001b[0mday\u001b[0m\u001b[1;33m)\u001b[0m\u001b[1;33m\u001b[0m\u001b[1;33m\u001b[0m\u001b[0m\n\u001b[0;32m      4\u001b[0m \u001b[0msch_day\u001b[0m \u001b[1;33m=\u001b[0m \u001b[1;33m[\u001b[0m\u001b[1;33m]\u001b[0m\u001b[1;33m\u001b[0m\u001b[1;33m\u001b[0m\u001b[0m\n\u001b[0;32m      5\u001b[0m \u001b[0mtarget\u001b[0m \u001b[1;33m=\u001b[0m \u001b[0mcalendar\u001b[0m\u001b[1;33m.\u001b[0m\u001b[0mweekheader\u001b[0m\u001b[1;33m(\u001b[0m\u001b[1;36m3\u001b[0m\u001b[1;33m)\u001b[0m\u001b[1;33m.\u001b[0m\u001b[0msplit\u001b[0m\u001b[1;33m(\u001b[0m\u001b[1;34m' '\u001b[0m\u001b[1;33m)\u001b[0m\u001b[1;33m.\u001b[0m\u001b[0mindex\u001b[0m\u001b[1;33m(\u001b[0m\u001b[1;34m'Tue'\u001b[0m\u001b[1;33m)\u001b[0m\u001b[1;33m\u001b[0m\u001b[1;33m\u001b[0m\u001b[0m\n",
      "\u001b[1;32m<ipython-input-1-d169d143dfbe>\u001b[0m in \u001b[0;36mdate_range\u001b[1;34m(start, end)\u001b[0m\n\u001b[0;32m      2\u001b[0m \u001b[0mend\u001b[0m \u001b[1;33m=\u001b[0m \u001b[1;34m'2019-06-26'\u001b[0m\u001b[1;33m\u001b[0m\u001b[1;33m\u001b[0m\u001b[0m\n\u001b[0;32m      3\u001b[0m \u001b[1;32mdef\u001b[0m \u001b[0mdate_range\u001b[0m\u001b[1;33m(\u001b[0m\u001b[0mstart\u001b[0m\u001b[1;33m,\u001b[0m \u001b[0mend\u001b[0m\u001b[1;33m)\u001b[0m\u001b[1;33m:\u001b[0m\u001b[1;33m\u001b[0m\u001b[1;33m\u001b[0m\u001b[0m\n\u001b[1;32m----> 4\u001b[1;33m     \u001b[0mdatelen\u001b[0m \u001b[1;33m=\u001b[0m \u001b[1;33m(\u001b[0m\u001b[0mscheduling\u001b[0m\u001b[1;33m.\u001b[0m\u001b[0mparse_time\u001b[0m\u001b[1;33m(\u001b[0m\u001b[0mend\u001b[0m\u001b[1;33m,\u001b[0m \u001b[0mstr_format\u001b[0m \u001b[1;33m=\u001b[0m \u001b[1;34m'%Y-%m-%d'\u001b[0m\u001b[1;33m)\u001b[0m \u001b[1;33m-\u001b[0m \u001b[0mscheduling\u001b[0m\u001b[1;33m.\u001b[0m\u001b[0mparse_time\u001b[0m\u001b[1;33m(\u001b[0m\u001b[0mstart\u001b[0m\u001b[1;33m,\u001b[0m \u001b[0mstr_format\u001b[0m \u001b[1;33m=\u001b[0m \u001b[1;34m'%Y-%m-%d'\u001b[0m\u001b[1;33m)\u001b[0m\u001b[1;33m)\u001b[0m\u001b[1;33m.\u001b[0m\u001b[0mdays\u001b[0m\u001b[1;33m\u001b[0m\u001b[1;33m\u001b[0m\u001b[0m\n\u001b[0m\u001b[0;32m      5\u001b[0m     \u001b[0mdaterange\u001b[0m \u001b[1;33m=\u001b[0m \u001b[1;33m[\u001b[0m\u001b[1;33m]\u001b[0m\u001b[1;33m\u001b[0m\u001b[1;33m\u001b[0m\u001b[0m\n\u001b[0;32m      6\u001b[0m     \u001b[1;32mfor\u001b[0m \u001b[0mi\u001b[0m \u001b[1;32min\u001b[0m \u001b[0mrange\u001b[0m\u001b[1;33m(\u001b[0m\u001b[0mdatelen\u001b[0m\u001b[1;33m+\u001b[0m\u001b[1;36m1\u001b[0m\u001b[1;33m)\u001b[0m\u001b[1;33m:\u001b[0m\u001b[1;33m\u001b[0m\u001b[1;33m\u001b[0m\u001b[0m\n",
      "\u001b[1;31mNameError\u001b[0m: name 'scheduling' is not defined"
     ]
    }
   ],
   "source": [
    "daterange = date_range(start, end)\n",
    "parsed_start = scheduling.parse_time(start, str_format = '%Y-%m-%d')\n",
    "calendar.weekday(parsed_start.year, parsed_start.month, parsed_start.day)\n",
    "sch_day = []\n",
    "target = calendar.weekheader(3).split(' ').index('Tue')\n",
    "\n",
    "for i in range(6, len(daterange),7):\n",
    "    sch_day.append(daterange[i])\n",
    "sch_day[:12]\n"
   ]
  },
  {
   "cell_type": "markdown",
   "metadata": {},
   "source": [
    "# 尝试群发学习计划"
   ]
  },
  {
   "cell_type": "code",
   "execution_count": null,
   "metadata": {},
   "outputs": [],
   "source": [
    "import pandas as pd\n",
    "import itchat as ic"
   ]
  },
  {
   "cell_type": "code",
   "execution_count": null,
   "metadata": {},
   "outputs": [],
   "source": [
    "ic.auto_login()"
   ]
  },
  {
   "cell_type": "markdown",
   "metadata": {},
   "source": [
    "获取单个用户的ID"
   ]
  },
  {
   "cell_type": "code",
   "execution_count": null,
   "metadata": {},
   "outputs": [],
   "source": [
    "userID = ic.search_friends(name='Udacity-Tyelcie')[0]['UserName']\n",
    "userID"
   ]
  },
  {
   "cell_type": "markdown",
   "metadata": {},
   "source": [
    "获取群ID"
   ]
  },
  {
   "cell_type": "code",
   "execution_count": null,
   "metadata": {},
   "outputs": [],
   "source": [
    "chatroomID = ic.search_chatrooms('测试')[0]['UserName']\n",
    "chatroomID"
   ]
  },
  {
   "cell_type": "markdown",
   "metadata": {},
   "source": [
    "发文字消息"
   ]
  },
  {
   "cell_type": "code",
   "execution_count": null,
   "metadata": {},
   "outputs": [],
   "source": [
    "ic.send('https://shimo.im/sheet/xwJ8FkJhUcUKeXyM/', toUserName=userID)"
   ]
  },
  {
   "cell_type": "markdown",
   "metadata": {},
   "source": [
    "发图片消息"
   ]
  },
  {
   "cell_type": "code",
   "execution_count": null,
   "metadata": {},
   "outputs": [],
   "source": [
    "ic.send_image('../stobserver/test.jpg', toUserName=chatroomID)"
   ]
  },
  {
   "cell_type": "markdown",
   "metadata": {},
   "source": [
    "## 简单粗暴地抓取石墨文档表格\n",
    "\n",
    "把要抓的内容选中，Ctrl+C，然后用`pd.read_clipboard()`从剪贴板读取数据。"
   ]
  },
  {
   "cell_type": "code",
   "execution_count": null,
   "metadata": {},
   "outputs": [],
   "source": [
    "students = pd.read_clipboard(sep='\\t')\n",
    "students.head(3)"
   ]
  },
  {
   "cell_type": "markdown",
   "metadata": {},
   "source": [
    "如果要群发消息，注意修改任务序列和消息模板："
   ]
  },
  {
   "cell_type": "code",
   "execution_count": null,
   "metadata": {
    "scrolled": false
   },
   "outputs": [],
   "source": [
    "task_seq = 'Task 1'\n",
    "msg_template = 'Hello，{}同学，接下来三天你需要完成的任务是：\\n\\n{}'\n",
    "def send_task_group(task_seq, msg_template, students_df):\n",
    "    for i in range(1, len(students_df)):\n",
    "        student = students_df['姓名'][i]\n",
    "        userID = ic.search_friends(name=student)[0]['UserName']\n",
    "        personal_task = students_df[task_seq][i]\n",
    "        msg = msg_template.format(student, personal_task)\n",
    "        ic.send(msg, userID)"
   ]
  },
  {
   "cell_type": "code",
   "execution_count": null,
   "metadata": {},
   "outputs": [],
   "source": [
    "task_seq = 'Task 1'\n",
    "msg_template = 'Hello，{}同学，接下来三天你需要完成的任务是：\\n\\n{}'\n",
    "send_task_group(task_seq, msg_template, students)"
   ]
  },
  {
   "cell_type": "markdown",
   "metadata": {},
   "source": [
    "如果需要单独发消息，注意修改学生姓名、任务序列和消息模板："
   ]
  },
  {
   "cell_type": "code",
   "execution_count": null,
   "metadata": {},
   "outputs": [],
   "source": [
    "student = 'Udacity-Tyelcie'\n",
    "task_seq = 'Task 1'\n",
    "msg_template = 'Hello，{}同学，接下来三天你需要完成的任务是：\\n\\n{}'\n",
    "\n",
    "def send_task_personal(student_name, task_seq, msg_template, students_df):\n",
    "    stu_pos = list(filter(lambda x: students_df['姓名'][x] == student_name, students_df.index.tolist()))[0]\n",
    "    msg = msg_template.format(student_name, students_df[task_seq][stu_pos])\n",
    "    userID = ic.search_friends(name=student_name)[0]['UserName']\n",
    "    ic.send(msg, userID)"
   ]
  },
  {
   "cell_type": "code",
   "execution_count": null,
   "metadata": {},
   "outputs": [],
   "source": [
    "send_task_personal('Udacity-Tyelcie', task_seq, msg_template, students)"
   ]
  }
 ],
 "metadata": {
  "kernelspec": {
   "display_name": "Python 3",
   "language": "python",
   "name": "python3"
  },
  "language_info": {
   "codemirror_mode": {
    "name": "ipython",
    "version": 3
   },
   "file_extension": ".py",
   "mimetype": "text/x-python",
   "name": "python",
   "nbconvert_exporter": "python",
   "pygments_lexer": "ipython3",
   "version": "3.7.3"
  }
 },
 "nbformat": 4,
 "nbformat_minor": 2
}
