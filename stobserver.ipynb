{
 "cells": [
  {
   "cell_type": "code",
   "execution_count": 1,
   "metadata": {},
   "outputs": [],
   "source": [
    "import pandas as pd\n",
    "import string as str\n",
    "import re"
   ]
  },
  {
   "cell_type": "code",
   "execution_count": 2,
   "metadata": {},
   "outputs": [],
   "source": [
    "def read_students(x):\n",
    "    table = pd.read_html(x, encoding = 'UTF-8')\n",
    "    students = pd.DataFrame(table[1])\n",
    "    students.fillna('100%', inplace = True)\n",
    "\n",
    "    for i in range(2, students.shape[1]):\n",
    "        students[i] = students[i].str.strip('%').astype(float)/100\n",
    "\n",
    "    Lessons = list(table[0].loc[1])  \n",
    "    re_lesson_1 = re.compile('Lesson 1$')\n",
    "    idx = []\n",
    "    for i in range(len(Lessons)):\n",
    "        temp = re_lesson_1.findall(Lessons[i])\n",
    "        if len(temp) == 1:\n",
    "            idx.append(i)\n",
    "    idx.append(len(Lessons))\n",
    "\n",
    "    rep = []\n",
    "    for i in range(1, len(idx)):\n",
    "        rep.append(idx[i] - idx[i - 1])\n",
    "\n",
    "    re_parts = re.compile('^Part \\d+')\n",
    "    Parts = []\n",
    "    for i in range(len(table[0].loc[0].dropna())):\n",
    "        temp = re_parts.findall(table[0].loc[0].dropna()[i])\n",
    "        if len(temp) == 1:\n",
    "            Parts.append(temp[0])\n",
    "\n",
    "    headers = []\n",
    "    for i in range(len(rep)):\n",
    "        headers.extend([Parts[i]] * rep[i])\n",
    "\n",
    "    Headers = []\n",
    "    for i in range(len(headers)):\n",
    "        Headers.append(headers[i] + ' ' + Lessons[i]) \n",
    "\n",
    "    Columns = list(table[2]) + Headers\n",
    "    students.columns = Columns\n",
    "\n",
    "    return students"
   ]
  },
  {
   "cell_type": "code",
   "execution_count": 3,
   "metadata": {},
   "outputs": [],
   "source": [
    "from setuptools import setup"
   ]
  },
  {
   "cell_type": "code",
   "execution_count": 15,
   "metadata": {},
   "outputs": [
    {
     "ename": "SystemExit",
     "evalue": "usage: ipykernel_launcher.py [global_opts] cmd1 [cmd1_opts] [cmd2 [cmd2_opts] ...]\n   or: ipykernel_launcher.py --help [cmd1 cmd2 ...]\n   or: ipykernel_launcher.py --help-commands\n   or: ipykernel_launcher.py cmd --help\n\nerror: option -f not recognized",
     "output_type": "error",
     "traceback": [
      "An exception has occurred, use %tb to see the full traceback.\n",
      "\u001b[1;31mSystemExit\u001b[0m\u001b[1;31m:\u001b[0m usage: ipykernel_launcher.py [global_opts] cmd1 [cmd1_opts] [cmd2 [cmd2_opts] ...]\n   or: ipykernel_launcher.py --help [cmd1 cmd2 ...]\n   or: ipykernel_launcher.py --help-commands\n   or: ipykernel_launcher.py cmd --help\n\nerror: option -f not recognized\n"
     ]
    }
   ],
   "source": [
    "setup(\n",
    "    # Needed to silence warnings (and to be a worthwhile package)\n",
    "    name='Students Observer',\n",
    "    url='https://github.com/Tyelcie/stobserver',\n",
    "    author='Tyelcie',\n",
    "    author_email='tyelcie@gmail.com',\n",
    "    # Needed to actually package something\n",
    "    packages=['stobserver'],\n",
    "    # Needed for dependencies\n",
    "    install_requires=['pandas', 'string', 're'],\n",
    "    # *strongly* suggested for sharing\n",
    "    version='0.1',\n",
    "    # The license can be anything you like\n",
    "    #license='MIT',\n",
    "    description='A trial to gather students study data for analysis.',\n",
    "    # We will also need a readme eventually (there will be a warning)\n",
    "    # long_description=open('README.txt').read(),\n",
    ")"
   ]
  },
  {
   "cell_type": "code",
   "execution_count": null,
   "metadata": {},
   "outputs": [],
   "source": []
  }
 ],
 "metadata": {
  "kernelspec": {
   "display_name": "Python 3",
   "language": "python",
   "name": "python3"
  },
  "language_info": {
   "codemirror_mode": {
    "name": "ipython",
    "version": 3
   },
   "file_extension": ".py",
   "mimetype": "text/x-python",
   "name": "python",
   "nbconvert_exporter": "python",
   "pygments_lexer": "ipython3",
   "version": "3.7.1"
  }
 },
 "nbformat": 4,
 "nbformat_minor": 2
}
