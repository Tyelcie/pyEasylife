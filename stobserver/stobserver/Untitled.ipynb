{
 "cells": [
  {
   "cell_type": "code",
   "execution_count": 2,
   "metadata": {},
   "outputs": [],
   "source": [
    "import calendar\n",
    "import time\n",
    "import datetime\n",
    "import pandas as pd"
   ]
  },
  {
   "cell_type": "code",
   "execution_count": 62,
   "metadata": {},
   "outputs": [],
   "source": [
    "class Schedule:\n",
    "    def __init__(self, year, month):\n",
    "        self.year = year\n",
    "        self.month = month\n",
    "    def term(self, lenghth):\n",
    "        cale = calendar.Calendar()\n",
    "        self.term_length = lenghth\n",
    "        month_span = self.term_length // 28 +1\n",
    "        schedule = cale.monthdatescalendar(year=self.year, month=self.month)\n",
    "        schedule = pd.DataFrame(schedule,columns = calendar.weekheader(6).strip().split('    ')).iloc[:4]\n",
    "#         schedule = pd.DataFrame(columns = calendar.weekheader(6).strip().split('    '))\n",
    "        for i in range(1,month_span):\n",
    "            schedule_i = cale.monthdatescalendar(year=self.year, month=self.month + i)\n",
    "            schedule_i = pd.DataFrame(schedule_i,columns = calendar.weekheader(6).strip().split('    '))\n",
    "            schedule = schedule.append(schedule_i)\n",
    "            schedule.reset_index(drop=True, inplace=True)\n",
    "        return schedule"
   ]
  },
  {
   "cell_type": "code",
   "execution_count": 63,
   "metadata": {},
   "outputs": [
    {
     "data": {
      "text/html": [
       "<div>\n",
       "<style scoped>\n",
       "    .dataframe tbody tr th:only-of-type {\n",
       "        vertical-align: middle;\n",
       "    }\n",
       "\n",
       "    .dataframe tbody tr th {\n",
       "        vertical-align: top;\n",
       "    }\n",
       "\n",
       "    .dataframe thead th {\n",
       "        text-align: right;\n",
       "    }\n",
       "</style>\n",
       "<table border=\"1\" class=\"dataframe\">\n",
       "  <thead>\n",
       "    <tr style=\"text-align: right;\">\n",
       "      <th></th>\n",
       "      <th>Mon</th>\n",
       "      <th>Tue</th>\n",
       "      <th>Wed</th>\n",
       "      <th>Thu</th>\n",
       "      <th>Fri</th>\n",
       "      <th>Sat</th>\n",
       "      <th>Sun</th>\n",
       "    </tr>\n",
       "  </thead>\n",
       "  <tbody>\n",
       "    <tr>\n",
       "      <th>0</th>\n",
       "      <td>2018-12-31</td>\n",
       "      <td>2019-01-01</td>\n",
       "      <td>2019-01-02</td>\n",
       "      <td>2019-01-03</td>\n",
       "      <td>2019-01-04</td>\n",
       "      <td>2019-01-05</td>\n",
       "      <td>2019-01-06</td>\n",
       "    </tr>\n",
       "    <tr>\n",
       "      <th>1</th>\n",
       "      <td>2019-01-07</td>\n",
       "      <td>2019-01-08</td>\n",
       "      <td>2019-01-09</td>\n",
       "      <td>2019-01-10</td>\n",
       "      <td>2019-01-11</td>\n",
       "      <td>2019-01-12</td>\n",
       "      <td>2019-01-13</td>\n",
       "    </tr>\n",
       "    <tr>\n",
       "      <th>2</th>\n",
       "      <td>2019-01-14</td>\n",
       "      <td>2019-01-15</td>\n",
       "      <td>2019-01-16</td>\n",
       "      <td>2019-01-17</td>\n",
       "      <td>2019-01-18</td>\n",
       "      <td>2019-01-19</td>\n",
       "      <td>2019-01-20</td>\n",
       "    </tr>\n",
       "    <tr>\n",
       "      <th>3</th>\n",
       "      <td>2019-01-21</td>\n",
       "      <td>2019-01-22</td>\n",
       "      <td>2019-01-23</td>\n",
       "      <td>2019-01-24</td>\n",
       "      <td>2019-01-25</td>\n",
       "      <td>2019-01-26</td>\n",
       "      <td>2019-01-27</td>\n",
       "    </tr>\n",
       "    <tr>\n",
       "      <th>4</th>\n",
       "      <td>2019-01-28</td>\n",
       "      <td>2019-01-29</td>\n",
       "      <td>2019-01-30</td>\n",
       "      <td>2019-01-31</td>\n",
       "      <td>2019-02-01</td>\n",
       "      <td>2019-02-02</td>\n",
       "      <td>2019-02-03</td>\n",
       "    </tr>\n",
       "    <tr>\n",
       "      <th>5</th>\n",
       "      <td>2019-02-04</td>\n",
       "      <td>2019-02-05</td>\n",
       "      <td>2019-02-06</td>\n",
       "      <td>2019-02-07</td>\n",
       "      <td>2019-02-08</td>\n",
       "      <td>2019-02-09</td>\n",
       "      <td>2019-02-10</td>\n",
       "    </tr>\n",
       "    <tr>\n",
       "      <th>6</th>\n",
       "      <td>2019-02-11</td>\n",
       "      <td>2019-02-12</td>\n",
       "      <td>2019-02-13</td>\n",
       "      <td>2019-02-14</td>\n",
       "      <td>2019-02-15</td>\n",
       "      <td>2019-02-16</td>\n",
       "      <td>2019-02-17</td>\n",
       "    </tr>\n",
       "    <tr>\n",
       "      <th>7</th>\n",
       "      <td>2019-02-18</td>\n",
       "      <td>2019-02-19</td>\n",
       "      <td>2019-02-20</td>\n",
       "      <td>2019-02-21</td>\n",
       "      <td>2019-02-22</td>\n",
       "      <td>2019-02-23</td>\n",
       "      <td>2019-02-24</td>\n",
       "    </tr>\n",
       "    <tr>\n",
       "      <th>8</th>\n",
       "      <td>2019-02-25</td>\n",
       "      <td>2019-02-26</td>\n",
       "      <td>2019-02-27</td>\n",
       "      <td>2019-02-28</td>\n",
       "      <td>2019-03-01</td>\n",
       "      <td>2019-03-02</td>\n",
       "      <td>2019-03-03</td>\n",
       "    </tr>\n",
       "    <tr>\n",
       "      <th>9</th>\n",
       "      <td>2019-02-25</td>\n",
       "      <td>2019-02-26</td>\n",
       "      <td>2019-02-27</td>\n",
       "      <td>2019-02-28</td>\n",
       "      <td>2019-03-01</td>\n",
       "      <td>2019-03-02</td>\n",
       "      <td>2019-03-03</td>\n",
       "    </tr>\n",
       "    <tr>\n",
       "      <th>10</th>\n",
       "      <td>2019-03-04</td>\n",
       "      <td>2019-03-05</td>\n",
       "      <td>2019-03-06</td>\n",
       "      <td>2019-03-07</td>\n",
       "      <td>2019-03-08</td>\n",
       "      <td>2019-03-09</td>\n",
       "      <td>2019-03-10</td>\n",
       "    </tr>\n",
       "    <tr>\n",
       "      <th>11</th>\n",
       "      <td>2019-03-11</td>\n",
       "      <td>2019-03-12</td>\n",
       "      <td>2019-03-13</td>\n",
       "      <td>2019-03-14</td>\n",
       "      <td>2019-03-15</td>\n",
       "      <td>2019-03-16</td>\n",
       "      <td>2019-03-17</td>\n",
       "    </tr>\n",
       "    <tr>\n",
       "      <th>12</th>\n",
       "      <td>2019-03-18</td>\n",
       "      <td>2019-03-19</td>\n",
       "      <td>2019-03-20</td>\n",
       "      <td>2019-03-21</td>\n",
       "      <td>2019-03-22</td>\n",
       "      <td>2019-03-23</td>\n",
       "      <td>2019-03-24</td>\n",
       "    </tr>\n",
       "    <tr>\n",
       "      <th>13</th>\n",
       "      <td>2019-03-25</td>\n",
       "      <td>2019-03-26</td>\n",
       "      <td>2019-03-27</td>\n",
       "      <td>2019-03-28</td>\n",
       "      <td>2019-03-29</td>\n",
       "      <td>2019-03-30</td>\n",
       "      <td>2019-03-31</td>\n",
       "    </tr>\n",
       "    <tr>\n",
       "      <th>14</th>\n",
       "      <td>2019-04-01</td>\n",
       "      <td>2019-04-02</td>\n",
       "      <td>2019-04-03</td>\n",
       "      <td>2019-04-04</td>\n",
       "      <td>2019-04-05</td>\n",
       "      <td>2019-04-06</td>\n",
       "      <td>2019-04-07</td>\n",
       "    </tr>\n",
       "    <tr>\n",
       "      <th>15</th>\n",
       "      <td>2019-04-08</td>\n",
       "      <td>2019-04-09</td>\n",
       "      <td>2019-04-10</td>\n",
       "      <td>2019-04-11</td>\n",
       "      <td>2019-04-12</td>\n",
       "      <td>2019-04-13</td>\n",
       "      <td>2019-04-14</td>\n",
       "    </tr>\n",
       "    <tr>\n",
       "      <th>16</th>\n",
       "      <td>2019-04-15</td>\n",
       "      <td>2019-04-16</td>\n",
       "      <td>2019-04-17</td>\n",
       "      <td>2019-04-18</td>\n",
       "      <td>2019-04-19</td>\n",
       "      <td>2019-04-20</td>\n",
       "      <td>2019-04-21</td>\n",
       "    </tr>\n",
       "    <tr>\n",
       "      <th>17</th>\n",
       "      <td>2019-04-22</td>\n",
       "      <td>2019-04-23</td>\n",
       "      <td>2019-04-24</td>\n",
       "      <td>2019-04-25</td>\n",
       "      <td>2019-04-26</td>\n",
       "      <td>2019-04-27</td>\n",
       "      <td>2019-04-28</td>\n",
       "    </tr>\n",
       "    <tr>\n",
       "      <th>18</th>\n",
       "      <td>2019-04-29</td>\n",
       "      <td>2019-04-30</td>\n",
       "      <td>2019-05-01</td>\n",
       "      <td>2019-05-02</td>\n",
       "      <td>2019-05-03</td>\n",
       "      <td>2019-05-04</td>\n",
       "      <td>2019-05-05</td>\n",
       "    </tr>\n",
       "    <tr>\n",
       "      <th>19</th>\n",
       "      <td>2019-04-29</td>\n",
       "      <td>2019-04-30</td>\n",
       "      <td>2019-05-01</td>\n",
       "      <td>2019-05-02</td>\n",
       "      <td>2019-05-03</td>\n",
       "      <td>2019-05-04</td>\n",
       "      <td>2019-05-05</td>\n",
       "    </tr>\n",
       "    <tr>\n",
       "      <th>20</th>\n",
       "      <td>2019-05-06</td>\n",
       "      <td>2019-05-07</td>\n",
       "      <td>2019-05-08</td>\n",
       "      <td>2019-05-09</td>\n",
       "      <td>2019-05-10</td>\n",
       "      <td>2019-05-11</td>\n",
       "      <td>2019-05-12</td>\n",
       "    </tr>\n",
       "    <tr>\n",
       "      <th>21</th>\n",
       "      <td>2019-05-13</td>\n",
       "      <td>2019-05-14</td>\n",
       "      <td>2019-05-15</td>\n",
       "      <td>2019-05-16</td>\n",
       "      <td>2019-05-17</td>\n",
       "      <td>2019-05-18</td>\n",
       "      <td>2019-05-19</td>\n",
       "    </tr>\n",
       "    <tr>\n",
       "      <th>22</th>\n",
       "      <td>2019-05-20</td>\n",
       "      <td>2019-05-21</td>\n",
       "      <td>2019-05-22</td>\n",
       "      <td>2019-05-23</td>\n",
       "      <td>2019-05-24</td>\n",
       "      <td>2019-05-25</td>\n",
       "      <td>2019-05-26</td>\n",
       "    </tr>\n",
       "    <tr>\n",
       "      <th>23</th>\n",
       "      <td>2019-05-27</td>\n",
       "      <td>2019-05-28</td>\n",
       "      <td>2019-05-29</td>\n",
       "      <td>2019-05-30</td>\n",
       "      <td>2019-05-31</td>\n",
       "      <td>2019-06-01</td>\n",
       "      <td>2019-06-02</td>\n",
       "    </tr>\n",
       "  </tbody>\n",
       "</table>\n",
       "</div>"
      ],
      "text/plain": [
       "           Mon         Tue         Wed         Thu         Fri         Sat  \\\n",
       "0   2018-12-31  2019-01-01  2019-01-02  2019-01-03  2019-01-04  2019-01-05   \n",
       "1   2019-01-07  2019-01-08  2019-01-09  2019-01-10  2019-01-11  2019-01-12   \n",
       "2   2019-01-14  2019-01-15  2019-01-16  2019-01-17  2019-01-18  2019-01-19   \n",
       "3   2019-01-21  2019-01-22  2019-01-23  2019-01-24  2019-01-25  2019-01-26   \n",
       "4   2019-01-28  2019-01-29  2019-01-30  2019-01-31  2019-02-01  2019-02-02   \n",
       "5   2019-02-04  2019-02-05  2019-02-06  2019-02-07  2019-02-08  2019-02-09   \n",
       "6   2019-02-11  2019-02-12  2019-02-13  2019-02-14  2019-02-15  2019-02-16   \n",
       "7   2019-02-18  2019-02-19  2019-02-20  2019-02-21  2019-02-22  2019-02-23   \n",
       "8   2019-02-25  2019-02-26  2019-02-27  2019-02-28  2019-03-01  2019-03-02   \n",
       "9   2019-02-25  2019-02-26  2019-02-27  2019-02-28  2019-03-01  2019-03-02   \n",
       "10  2019-03-04  2019-03-05  2019-03-06  2019-03-07  2019-03-08  2019-03-09   \n",
       "11  2019-03-11  2019-03-12  2019-03-13  2019-03-14  2019-03-15  2019-03-16   \n",
       "12  2019-03-18  2019-03-19  2019-03-20  2019-03-21  2019-03-22  2019-03-23   \n",
       "13  2019-03-25  2019-03-26  2019-03-27  2019-03-28  2019-03-29  2019-03-30   \n",
       "14  2019-04-01  2019-04-02  2019-04-03  2019-04-04  2019-04-05  2019-04-06   \n",
       "15  2019-04-08  2019-04-09  2019-04-10  2019-04-11  2019-04-12  2019-04-13   \n",
       "16  2019-04-15  2019-04-16  2019-04-17  2019-04-18  2019-04-19  2019-04-20   \n",
       "17  2019-04-22  2019-04-23  2019-04-24  2019-04-25  2019-04-26  2019-04-27   \n",
       "18  2019-04-29  2019-04-30  2019-05-01  2019-05-02  2019-05-03  2019-05-04   \n",
       "19  2019-04-29  2019-04-30  2019-05-01  2019-05-02  2019-05-03  2019-05-04   \n",
       "20  2019-05-06  2019-05-07  2019-05-08  2019-05-09  2019-05-10  2019-05-11   \n",
       "21  2019-05-13  2019-05-14  2019-05-15  2019-05-16  2019-05-17  2019-05-18   \n",
       "22  2019-05-20  2019-05-21  2019-05-22  2019-05-23  2019-05-24  2019-05-25   \n",
       "23  2019-05-27  2019-05-28  2019-05-29  2019-05-30  2019-05-31  2019-06-01   \n",
       "\n",
       "           Sun  \n",
       "0   2019-01-06  \n",
       "1   2019-01-13  \n",
       "2   2019-01-20  \n",
       "3   2019-01-27  \n",
       "4   2019-02-03  \n",
       "5   2019-02-10  \n",
       "6   2019-02-17  \n",
       "7   2019-02-24  \n",
       "8   2019-03-03  \n",
       "9   2019-03-03  \n",
       "10  2019-03-10  \n",
       "11  2019-03-17  \n",
       "12  2019-03-24  \n",
       "13  2019-03-31  \n",
       "14  2019-04-07  \n",
       "15  2019-04-14  \n",
       "16  2019-04-21  \n",
       "17  2019-04-28  \n",
       "18  2019-05-05  \n",
       "19  2019-05-05  \n",
       "20  2019-05-12  \n",
       "21  2019-05-19  \n",
       "22  2019-05-26  \n",
       "23  2019-06-02  "
      ]
     },
     "execution_count": 63,
     "metadata": {},
     "output_type": "execute_result"
    }
   ],
   "source": [
    "Schedule(2019, 1).term(124)"
   ]
  },
  {
   "cell_type": "code",
   "execution_count": 61,
   "metadata": {},
   "outputs": [
    {
     "data": {
      "text/plain": [
       "126"
      ]
     },
     "execution_count": 61,
     "metadata": {},
     "output_type": "execute_result"
    }
   ],
   "source": [
    "18*7"
   ]
  },
  {
   "cell_type": "code",
   "execution_count": 4,
   "metadata": {},
   "outputs": [],
   "source": [
    "class Lecturer:\n",
    "    def __init__(self, name, available):\n",
    "        self.name = str(name),\n",
    "        self.available = available\n",
    "    def end(self, duration):\n",
    "        '''calculate where his class will ends'''\n",
    "        ends = []\n",
    "        for i in self.available:\n",
    "            ends.append(i+ datetime.timedelta(minutes = duration))\n",
    "        return ends\n",
    "    def assign(self, schedual):\n",
    "        '''assign his available time to te schedual'''\n",
    "        for i in self.available:\n",
    "            date = i.year\n",
    "            loc = schedual.loc('')"
   ]
  },
  {
   "cell_type": "code",
   "execution_count": 5,
   "metadata": {},
   "outputs": [
    {
     "data": {
      "text/plain": [
       "datetime.datetime(2019, 1, 23, 19, 0)"
      ]
     },
     "execution_count": 5,
     "metadata": {},
     "output_type": "execute_result"
    }
   ],
   "source": [
    "Lihai = Lecturer(name='李海', available=[datetime.datetime(2019, 2, 3, 19, 0), datetime.datetime(2019, 2, 5, 10, 0)])\n",
    "datetime.datetime(2019, 1, 23, 19, 0, 0)"
   ]
  },
  {
   "cell_type": "code",
   "execution_count": 6,
   "metadata": {},
   "outputs": [
    {
     "data": {
      "text/plain": [
       "False"
      ]
     },
     "execution_count": 6,
     "metadata": {},
     "output_type": "execute_result"
    }
   ],
   "source": [
    "schedual['Mon'][1] == datetime.datetime(2019, 2, 4)"
   ]
  },
  {
   "cell_type": "markdown",
   "metadata": {},
   "source": [
    "# 尝试群发学习计划"
   ]
  },
  {
   "cell_type": "code",
   "execution_count": 1,
   "metadata": {},
   "outputs": [
    {
     "name": "stdout",
     "output_type": "stream",
     "text": [
      "█\r"
     ]
    }
   ],
   "source": [
    "import pandas as pd\n",
    "import itchat as ic"
   ]
  },
  {
   "cell_type": "code",
   "execution_count": 2,
   "metadata": {},
   "outputs": [
    {
     "name": "stderr",
     "output_type": "stream",
     "text": [
      "Getting uuid of QR code.\n",
      "Downloading QR code.\n",
      "Please scan the QR code to log in.\n",
      "Please press confirm on your phone.\n",
      "Loading the contact, this may take a little while.\n",
      "Login successfully as Tyelcie\n"
     ]
    }
   ],
   "source": [
    "ic.auto_login()"
   ]
  },
  {
   "cell_type": "markdown",
   "metadata": {},
   "source": [
    "获取单个用户的ID"
   ]
  },
  {
   "cell_type": "code",
   "execution_count": 34,
   "metadata": {},
   "outputs": [
    {
     "data": {
      "text/plain": [
       "'@09c56ff1f3fffadbc5e8039899008c05cb76c73a775b461165e7a34f7a07fac9'"
      ]
     },
     "execution_count": 34,
     "metadata": {},
     "output_type": "execute_result"
    }
   ],
   "source": [
    "userID = ic.search_friends(name='Udacity-Tyelcie')[0]['UserName']\n",
    "userID"
   ]
  },
  {
   "cell_type": "markdown",
   "metadata": {},
   "source": [
    "获取群ID"
   ]
  },
  {
   "cell_type": "code",
   "execution_count": 35,
   "metadata": {},
   "outputs": [
    {
     "data": {
      "text/plain": [
       "'@@d49dd3875d931f7d9b4915fb7e7e3f95aa3bd454c87e9f0ef5e598a78c204821'"
      ]
     },
     "execution_count": 35,
     "metadata": {},
     "output_type": "execute_result"
    }
   ],
   "source": [
    "chatroomID = ic.search_chatrooms('测试')[0]['UserName']\n",
    "chatroomID"
   ]
  },
  {
   "cell_type": "markdown",
   "metadata": {},
   "source": [
    "发文字消息"
   ]
  },
  {
   "cell_type": "code",
   "execution_count": 40,
   "metadata": {},
   "outputs": [
    {
     "data": {
      "text/plain": [
       "<ItchatReturnValue: {'BaseResponse': {'Ret': 0, 'ErrMsg': '请求成功', 'RawMsg': '请求成功'}, 'MsgID': '496310421075599274', 'LocalID': '15512568599880'}>"
      ]
     },
     "execution_count": 40,
     "metadata": {},
     "output_type": "execute_result"
    }
   ],
   "source": [
    "ic.send('https://shimo.im/sheet/xwJ8FkJhUcUKeXyM/', toUserName=userID)"
   ]
  },
  {
   "cell_type": "markdown",
   "metadata": {},
   "source": [
    "发图片消息"
   ]
  },
  {
   "cell_type": "code",
   "execution_count": 26,
   "metadata": {},
   "outputs": [
    {
     "data": {
      "text/plain": [
       "<ItchatReturnValue: {'BaseResponse': {'Ret': 0, 'ErrMsg': '请求成功', 'RawMsg': '请求成功'}, 'MsgID': '7305428619156474252', 'LocalID': '15512561834536'}>"
      ]
     },
     "execution_count": 26,
     "metadata": {},
     "output_type": "execute_result"
    }
   ],
   "source": [
    "ic.send_image('../stobserver/test.jpg', toUserName=chatroomID)"
   ]
  },
  {
   "cell_type": "markdown",
   "metadata": {},
   "source": [
    "## 暴力抓取石墨文档表格\n",
    "\n",
    "把要抓的内容选中，Ctrl+C，然后用`pd.read_clipboard()`从剪贴板读取数据。"
   ]
  },
  {
   "cell_type": "code",
   "execution_count": 90,
   "metadata": {},
   "outputs": [
    {
     "data": {
      "text/html": [
       "<div>\n",
       "<style scoped>\n",
       "    .dataframe tbody tr th:only-of-type {\n",
       "        vertical-align: middle;\n",
       "    }\n",
       "\n",
       "    .dataframe tbody tr th {\n",
       "        vertical-align: top;\n",
       "    }\n",
       "\n",
       "    .dataframe thead th {\n",
       "        text-align: right;\n",
       "    }\n",
       "</style>\n",
       "<table border=\"1\" class=\"dataframe\">\n",
       "  <thead>\n",
       "    <tr style=\"text-align: right;\">\n",
       "      <th></th>\n",
       "      <th>姓名</th>\n",
       "      <th>报名目的</th>\n",
       "      <th>学习时间&amp;希望帮助</th>\n",
       "      <th>开班仪式</th>\n",
       "      <th>项目状态</th>\n",
       "      <th>学习习惯、能力水平、学习积极性</th>\n",
       "      <th>督促偏好</th>\n",
       "      <th>Task 0</th>\n",
       "      <th>Task 1</th>\n",
       "      <th>Task 2</th>\n",
       "      <th>Task 3</th>\n",
       "      <th>Task 4</th>\n",
       "      <th>Task 5</th>\n",
       "    </tr>\n",
       "  </thead>\n",
       "  <tbody>\n",
       "    <tr>\n",
       "      <th>0</th>\n",
       "      <td>日期</td>\n",
       "      <td>2019/3/13</td>\n",
       "      <td>NaN</td>\n",
       "      <td>NaN</td>\n",
       "      <td>NaN</td>\n",
       "      <td>NaN</td>\n",
       "      <td>NaN</td>\n",
       "      <td>2019/3/31</td>\n",
       "      <td>2019/4/3</td>\n",
       "      <td>2019/4/6</td>\n",
       "      <td>2019/4/9</td>\n",
       "      <td>2019/4/12</td>\n",
       "      <td>2019/4/15</td>\n",
       "    </tr>\n",
       "    <tr>\n",
       "      <th>1</th>\n",
       "      <td>Udacity-Tyelcie</td>\n",
       "      <td>NaN</td>\n",
       "      <td>NaN</td>\n",
       "      <td>NaN</td>\n",
       "      <td>NaN</td>\n",
       "      <td>NaN</td>\n",
       "      <td>NaN</td>\n",
       "      <td>NaN</td>\n",
       "      <td>观看视频：欢迎来到人工智能编程基础</td>\n",
       "      <td>NaN</td>\n",
       "      <td>NaN</td>\n",
       "      <td>NaN</td>\n",
       "      <td>NaN</td>\n",
       "    </tr>\n",
       "    <tr>\n",
       "      <th>2</th>\n",
       "      <td>Udacity-Tyelcie</td>\n",
       "      <td>NaN</td>\n",
       "      <td>NaN</td>\n",
       "      <td>NaN</td>\n",
       "      <td>NaN</td>\n",
       "      <td>NaN</td>\n",
       "      <td>NaN</td>\n",
       "      <td>NaN</td>\n",
       "      <td>观看视频：欢迎来到人工智能编程基础\\n为什么学习python编程</td>\n",
       "      <td>NaN</td>\n",
       "      <td>NaN</td>\n",
       "      <td>NaN</td>\n",
       "      <td>NaN</td>\n",
       "    </tr>\n",
       "  </tbody>\n",
       "</table>\n",
       "</div>"
      ],
      "text/plain": [
       "                姓名       报名目的  学习时间&希望帮助  开班仪式  项目状态  学习习惯、能力水平、学习积极性  督促偏好  \\\n",
       "0               日期  2019/3/13        NaN   NaN   NaN              NaN   NaN   \n",
       "1  Udacity-Tyelcie        NaN        NaN   NaN   NaN              NaN   NaN   \n",
       "2  Udacity-Tyelcie        NaN        NaN   NaN   NaN              NaN   NaN   \n",
       "\n",
       "      Task 0                            Task 1    Task 2    Task 3     Task 4  \\\n",
       "0  2019/3/31                          2019/4/3  2019/4/6  2019/4/9  2019/4/12   \n",
       "1        NaN                 观看视频：欢迎来到人工智能编程基础       NaN       NaN        NaN   \n",
       "2        NaN  观看视频：欢迎来到人工智能编程基础\\n为什么学习python编程       NaN       NaN        NaN   \n",
       "\n",
       "      Task 5  \n",
       "0  2019/4/15  \n",
       "1        NaN  \n",
       "2        NaN  "
      ]
     },
     "execution_count": 90,
     "metadata": {},
     "output_type": "execute_result"
    }
   ],
   "source": [
    "students = pd.read_clipboard(sep='\\t')\n",
    "students.head(3)"
   ]
  },
  {
   "cell_type": "markdown",
   "metadata": {},
   "source": [
    "如果要群发消息，注意修改任务序列和消息模板："
   ]
  },
  {
   "cell_type": "code",
   "execution_count": 99,
   "metadata": {
    "scrolled": false
   },
   "outputs": [],
   "source": [
    "task_seq = 'Task 1'\n",
    "msg_template = 'Hello，{}同学，接下来三天你需要完成的任务是：\\n\\n{}'\n",
    "def send_task_group(task_seq, msg_template, students_df):\n",
    "    for i in range(1, len(students_df)):\n",
    "        student = students_df['姓名'][i]\n",
    "        userID = ic.search_friends(name=student)[0]['UserName']\n",
    "        personal_task = students_df[task_seq][i]\n",
    "        msg = msg_template.format(student, personal_task)\n",
    "        ic.send(msg, userID)"
   ]
  },
  {
   "cell_type": "code",
   "execution_count": 101,
   "metadata": {},
   "outputs": [],
   "source": [
    "task_seq = 'Task 1'\n",
    "msg_template = 'Hello，{}同学，接下来三天你需要完成的任务是：\\n\\n{}'\n",
    "send_task_group(task_seq, msg_template, students)"
   ]
  },
  {
   "cell_type": "markdown",
   "metadata": {},
   "source": [
    "如果需要单独发消息，注意修改学生姓名、任务序列和消息模板："
   ]
  },
  {
   "cell_type": "code",
   "execution_count": 102,
   "metadata": {},
   "outputs": [],
   "source": [
    "student = 'Udacity-Tyelcie'\n",
    "task_seq = 'Task 1'\n",
    "msg_template = 'Hello，{}同学，接下来三天你需要完成的任务是：\\n\\n{}'\n",
    "\n",
    "def send_task_personal(student_name, task_seq, msg_template, students_df):\n",
    "    stu_pos = list(filter(lambda x: students_df['姓名'][x] == student_name, students_df.index.tolist()))[0]\n",
    "    msg = msg_template.format(student_name, students_df[task_seq][stu_pos])\n",
    "    userID = ic.search_friends(name=student_name)[0]['UserName']\n",
    "    ic.send(msg, userID)"
   ]
  },
  {
   "cell_type": "code",
   "execution_count": 104,
   "metadata": {},
   "outputs": [],
   "source": [
    "send_task_personal('Udacity-Tyelcie', task_seq, msg_template, students)"
   ]
  },
  {
   "cell_type": "code",
   "execution_count": null,
   "metadata": {},
   "outputs": [],
   "source": []
  }
 ],
 "metadata": {
  "kernelspec": {
   "display_name": "Python 3",
   "language": "python",
   "name": "python3"
  },
  "language_info": {
   "codemirror_mode": {
    "name": "ipython",
    "version": 3
   },
   "file_extension": ".py",
   "mimetype": "text/x-python",
   "name": "python",
   "nbconvert_exporter": "python",
   "pygments_lexer": "ipython3",
   "version": "3.7.1"
  }
 },
 "nbformat": 4,
 "nbformat_minor": 2
}
