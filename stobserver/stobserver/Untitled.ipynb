{
 "cells": [
  {
   "cell_type": "code",
   "execution_count": 80,
   "metadata": {},
   "outputs": [],
   "source": [
    "import calendar\n",
    "import time\n",
    "import datetime\n",
    "import pandas as pd"
   ]
  },
  {
   "cell_type": "code",
   "execution_count": 79,
   "metadata": {},
   "outputs": [
    {
     "data": {
      "text/html": [
       "<div>\n",
       "<style scoped>\n",
       "    .dataframe tbody tr th:only-of-type {\n",
       "        vertical-align: middle;\n",
       "    }\n",
       "\n",
       "    .dataframe tbody tr th {\n",
       "        vertical-align: top;\n",
       "    }\n",
       "\n",
       "    .dataframe thead th {\n",
       "        text-align: right;\n",
       "    }\n",
       "</style>\n",
       "<table border=\"1\" class=\"dataframe\">\n",
       "  <thead>\n",
       "    <tr style=\"text-align: right;\">\n",
       "      <th></th>\n",
       "      <th>Mon</th>\n",
       "      <th>Tue</th>\n",
       "      <th>Wed</th>\n",
       "      <th>Thu</th>\n",
       "      <th>Fri</th>\n",
       "      <th>Sat</th>\n",
       "      <th>Sun</th>\n",
       "    </tr>\n",
       "  </thead>\n",
       "  <tbody>\n",
       "    <tr>\n",
       "      <th>0</th>\n",
       "      <td>2019-01-28</td>\n",
       "      <td>2019-01-29</td>\n",
       "      <td>2019-01-30</td>\n",
       "      <td>2019-01-31</td>\n",
       "      <td>2019-02-01</td>\n",
       "      <td>2019-02-02</td>\n",
       "      <td>2019-02-03</td>\n",
       "    </tr>\n",
       "    <tr>\n",
       "      <th>1</th>\n",
       "      <td>2019-02-04</td>\n",
       "      <td>2019-02-05</td>\n",
       "      <td>2019-02-06</td>\n",
       "      <td>2019-02-07</td>\n",
       "      <td>2019-02-08</td>\n",
       "      <td>2019-02-09</td>\n",
       "      <td>2019-02-10</td>\n",
       "    </tr>\n",
       "    <tr>\n",
       "      <th>2</th>\n",
       "      <td>2019-02-11</td>\n",
       "      <td>2019-02-12</td>\n",
       "      <td>2019-02-13</td>\n",
       "      <td>2019-02-14</td>\n",
       "      <td>2019-02-15</td>\n",
       "      <td>2019-02-16</td>\n",
       "      <td>2019-02-17</td>\n",
       "    </tr>\n",
       "    <tr>\n",
       "      <th>3</th>\n",
       "      <td>2019-02-18</td>\n",
       "      <td>2019-02-19</td>\n",
       "      <td>2019-02-20</td>\n",
       "      <td>2019-02-21</td>\n",
       "      <td>2019-02-22</td>\n",
       "      <td>2019-02-23</td>\n",
       "      <td>2019-02-24</td>\n",
       "    </tr>\n",
       "    <tr>\n",
       "      <th>4</th>\n",
       "      <td>2019-02-25</td>\n",
       "      <td>2019-02-26</td>\n",
       "      <td>2019-02-27</td>\n",
       "      <td>2019-02-28</td>\n",
       "      <td>2019-03-01</td>\n",
       "      <td>2019-03-02</td>\n",
       "      <td>2019-03-03</td>\n",
       "    </tr>\n",
       "  </tbody>\n",
       "</table>\n",
       "</div>"
      ],
      "text/plain": [
       "          Mon         Tue         Wed         Thu         Fri         Sat  \\\n",
       "0  2019-01-28  2019-01-29  2019-01-30  2019-01-31  2019-02-01  2019-02-02   \n",
       "1  2019-02-04  2019-02-05  2019-02-06  2019-02-07  2019-02-08  2019-02-09   \n",
       "2  2019-02-11  2019-02-12  2019-02-13  2019-02-14  2019-02-15  2019-02-16   \n",
       "3  2019-02-18  2019-02-19  2019-02-20  2019-02-21  2019-02-22  2019-02-23   \n",
       "4  2019-02-25  2019-02-26  2019-02-27  2019-02-28  2019-03-01  2019-03-02   \n",
       "\n",
       "          Sun  \n",
       "0  2019-02-03  \n",
       "1  2019-02-10  \n",
       "2  2019-02-17  \n",
       "3  2019-02-24  \n",
       "4  2019-03-03  "
      ]
     },
     "execution_count": 79,
     "metadata": {},
     "output_type": "execute_result"
    }
   ],
   "source": [
    "cale = calendar.Calendar()\n",
    "pd.DataFrame(cale.monthdatescalendar(year=2019, month=2),columns = calendar.weekheader(6).strip().split('    '))"
   ]
  },
  {
   "cell_type": "code",
   "execution_count": null,
   "metadata": {},
   "outputs": [],
   "source": [
    "class Schedule:\n",
    "    def __init__(self, start_day, term_length):"
   ]
  },
  {
   "cell_type": "code",
   "execution_count": 56,
   "metadata": {},
   "outputs": [],
   "source": [
    "class Lecturer:\n",
    "    def __init__(self, name, available):\n",
    "        self.name = name,\n",
    "        self.available = available\n",
    "    def end(self, duration):\n",
    "        return self.available + duration"
   ]
  },
  {
   "cell_type": "code",
   "execution_count": 77,
   "metadata": {},
   "outputs": [
    {
     "data": {
      "text/plain": [
       "time.struct_time(tm_year=1900, tm_mon=1, tm_mday=1, tm_hour=19, tm_min=0, tm_sec=0, tm_wday=0, tm_yday=1, tm_isdst=-1)"
      ]
     },
     "execution_count": 77,
     "metadata": {},
     "output_type": "execute_result"
    }
   ],
   "source": [
    "time.strptime('19:00', '%H:%M')# + timedelta(minutes = 40)"
   ]
  },
  {
   "cell_type": "code",
   "execution_count": 82,
   "metadata": {},
   "outputs": [
    {
     "data": {
      "text/plain": [
       "datetime.datetime(2019, 2, 25, 16, 26, 49, 384680)"
      ]
     },
     "execution_count": 82,
     "metadata": {},
     "output_type": "execute_result"
    }
   ],
   "source": [
    "datetime.datetime.now()"
   ]
  }
 ],
 "metadata": {
  "kernelspec": {
   "display_name": "Python 3",
   "language": "python",
   "name": "python3"
  },
  "language_info": {
   "codemirror_mode": {
    "name": "ipython",
    "version": 3
   },
   "file_extension": ".py",
   "mimetype": "text/x-python",
   "name": "python",
   "nbconvert_exporter": "python",
   "pygments_lexer": "ipython3",
   "version": "3.7.1"
  }
 },
 "nbformat": 4,
 "nbformat_minor": 2
}
