{
 "cells": [
  {
   "cell_type": "code",
   "execution_count": null,
   "metadata": {},
   "outputs": [],
   "source": [
    "import calendar\n",
    "import time\n",
    "import datetime\n",
    "import pandas as pd"
   ]
  },
  {
   "cell_type": "code",
   "execution_count": null,
   "metadata": {},
   "outputs": [],
   "source": [
    "class Schedule:\n",
    "    def __init__(self, year, month):\n",
    "        self.year = year\n",
    "        self.month = month\n",
    "    def term(self, lenghth):\n",
    "        cale = calendar.Calendar()\n",
    "        self.term_length = lenghth\n",
    "        month_span = self.term_length // 28 +1\n",
    "        schedule = cale.monthdatescalendar(year=self.year, month=self.month)\n",
    "        schedule = pd.DataFrame(schedule,columns = calendar.weekheader(6).strip().split('    ')).iloc[:4]\n",
    "#         schedule = pd.DataFrame(columns = calendar.weekheader(6).strip().split('    '))\n",
    "        for i in range(1,month_span):\n",
    "            schedule_i = cale.monthdatescalendar(year=self.year, month=self.month + i)\n",
    "            schedule_i = pd.DataFrame(schedule_i,columns = calendar.weekheader(6).strip().split('    '))\n",
    "            schedule = schedule.append(schedule_i)\n",
    "            schedule.reset_index(drop=True, inplace=True)\n",
    "        return schedule"
   ]
  },
  {
   "cell_type": "code",
   "execution_count": null,
   "metadata": {},
   "outputs": [],
   "source": [
    "Schedule(2019, 1).term(124)"
   ]
  },
  {
   "cell_type": "code",
   "execution_count": null,
   "metadata": {},
   "outputs": [],
   "source": [
    "18*7"
   ]
  },
  {
   "cell_type": "code",
   "execution_count": null,
   "metadata": {},
   "outputs": [],
   "source": [
    "class Lecturer:\n",
    "    def __init__(self, name, available):\n",
    "        self.name = str(name),\n",
    "        self.available = available\n",
    "    def end(self, duration):\n",
    "        '''calculate where his class will ends'''\n",
    "        ends = []\n",
    "        for i in self.available:\n",
    "            ends.append(i+ datetime.timedelta(minutes = duration))\n",
    "        return ends\n",
    "    def assign(self, schedual):\n",
    "        '''assign his available time to te schedual'''\n",
    "        for i in self.available:\n",
    "            date = i.year\n",
    "            loc = schedual.loc('')"
   ]
  },
  {
   "cell_type": "code",
   "execution_count": null,
   "metadata": {},
   "outputs": [],
   "source": [
    "Lihai = Lecturer(name='李海', available=[datetime.datetime(2019, 2, 3, 19, 0), datetime.datetime(2019, 2, 5, 10, 0)])\n",
    "datetime.datetime(2019, 1, 23, 19, 0, 0)"
   ]
  },
  {
   "cell_type": "code",
   "execution_count": null,
   "metadata": {},
   "outputs": [],
   "source": [
    "schedual['Mon'][1] == datetime.datetime(2019, 2, 4)"
   ]
  },
  {
   "cell_type": "markdown",
   "metadata": {},
   "source": [
    "# 尝试群发学习计划"
   ]
  },
  {
   "cell_type": "code",
   "execution_count": null,
   "metadata": {},
   "outputs": [],
   "source": [
    "import pandas as pd\n",
    "import itchat as ic"
   ]
  },
  {
   "cell_type": "code",
   "execution_count": null,
   "metadata": {},
   "outputs": [],
   "source": [
    "ic.auto_login()"
   ]
  },
  {
   "cell_type": "markdown",
   "metadata": {},
   "source": [
    "获取单个用户的ID"
   ]
  },
  {
   "cell_type": "code",
   "execution_count": null,
   "metadata": {},
   "outputs": [],
   "source": [
    "userID = ic.search_friends(name='Udacity-Tyelcie')[0]['UserName']\n",
    "userID"
   ]
  },
  {
   "cell_type": "markdown",
   "metadata": {},
   "source": [
    "获取群ID"
   ]
  },
  {
   "cell_type": "code",
   "execution_count": null,
   "metadata": {},
   "outputs": [],
   "source": [
    "chatroomID = ic.search_chatrooms('测试')[0]['UserName']\n",
    "chatroomID"
   ]
  },
  {
   "cell_type": "markdown",
   "metadata": {},
   "source": [
    "发文字消息"
   ]
  },
  {
   "cell_type": "code",
   "execution_count": null,
   "metadata": {},
   "outputs": [],
   "source": [
    "ic.send('https://shimo.im/sheet/xwJ8FkJhUcUKeXyM/', toUserName=userID)"
   ]
  },
  {
   "cell_type": "markdown",
   "metadata": {},
   "source": [
    "发图片消息"
   ]
  },
  {
   "cell_type": "code",
   "execution_count": null,
   "metadata": {},
   "outputs": [],
   "source": [
    "ic.send_image('../stobserver/test.jpg', toUserName=chatroomID)"
   ]
  },
  {
   "cell_type": "markdown",
   "metadata": {},
   "source": [
    "## 暴力抓取石墨文档表格\n",
    "\n",
    "把要抓的内容选中，Ctrl+C，然后用`pd.read_clipboard()`从剪贴板读取数据。"
   ]
  },
  {
   "cell_type": "code",
   "execution_count": null,
   "metadata": {},
   "outputs": [],
   "source": [
    "students = pd.read_clipboard(sep='\\t')\n",
    "students.head(3)"
   ]
  },
  {
   "cell_type": "markdown",
   "metadata": {},
   "source": [
    "如果要群发消息，注意修改任务序列和消息模板："
   ]
  },
  {
   "cell_type": "code",
   "execution_count": null,
   "metadata": {
    "scrolled": false
   },
   "outputs": [],
   "source": [
    "task_seq = 'Task 1'\n",
    "msg_template = 'Hello，{}同学，接下来三天你需要完成的任务是：\\n\\n{}'\n",
    "def send_task_group(task_seq, msg_template, students_df):\n",
    "    for i in range(1, len(students_df)):\n",
    "        student = students_df['姓名'][i]\n",
    "        userID = ic.search_friends(name=student)[0]['UserName']\n",
    "        personal_task = students_df[task_seq][i]\n",
    "        msg = msg_template.format(student, personal_task)\n",
    "        ic.send(msg, userID)"
   ]
  },
  {
   "cell_type": "code",
   "execution_count": null,
   "metadata": {},
   "outputs": [],
   "source": [
    "task_seq = 'Task 1'\n",
    "msg_template = 'Hello，{}同学，接下来三天你需要完成的任务是：\\n\\n{}'\n",
    "send_task_group(task_seq, msg_template, students)"
   ]
  },
  {
   "cell_type": "markdown",
   "metadata": {},
   "source": [
    "如果需要单独发消息，注意修改学生姓名、任务序列和消息模板："
   ]
  },
  {
   "cell_type": "code",
   "execution_count": null,
   "metadata": {},
   "outputs": [],
   "source": [
    "student = 'Udacity-Tyelcie'\n",
    "task_seq = 'Task 1'\n",
    "msg_template = 'Hello，{}同学，接下来三天你需要完成的任务是：\\n\\n{}'\n",
    "\n",
    "def send_task_personal(student_name, task_seq, msg_template, students_df):\n",
    "    stu_pos = list(filter(lambda x: students_df['姓名'][x] == student_name, students_df.index.tolist()))[0]\n",
    "    msg = msg_template.format(student_name, students_df[task_seq][stu_pos])\n",
    "    userID = ic.search_friends(name=student_name)[0]['UserName']\n",
    "    ic.send(msg, userID)"
   ]
  },
  {
   "cell_type": "code",
   "execution_count": null,
   "metadata": {},
   "outputs": [],
   "source": [
    "send_task_personal('Udacity-Tyelcie', task_seq, msg_template, students)"
   ]
  }
 ],
 "metadata": {
  "kernelspec": {
   "display_name": "Python 3",
   "language": "python",
   "name": "python3"
  },
  "language_info": {
   "codemirror_mode": {
    "name": "ipython",
    "version": 3
   },
   "file_extension": ".py",
   "mimetype": "text/x-python",
   "name": "python",
   "nbconvert_exporter": "python",
   "pygments_lexer": "ipython3",
   "version": "3.7.1"
  }
 },
 "nbformat": 4,
 "nbformat_minor": 2
}
