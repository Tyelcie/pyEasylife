{
 "cells": [
  {
   "cell_type": "code",
   "execution_count": null,
   "metadata": {},
   "outputs": [],
   "source": [
    "import calendar\n",
    "import time\n",
    "import datetime\n",
    "import pandas as pd\n",
    "import numpy as np\n",
    "from itertools import compress\n",
    "import stanager.scheduling as ss\n",
    "# import sys\n",
    "# sys.path.insert(0, './stanager')\n",
    "# import scheduling"
   ]
  },
  {
   "cell_type": "markdown",
   "metadata": {},
   "source": [
    "# Scheduling排课模块"
   ]
  },
  {
   "cell_type": "markdown",
   "metadata": {},
   "source": [
    "## 定义课节"
   ]
  },
  {
   "cell_type": "code",
   "execution_count": null,
   "metadata": {},
   "outputs": [],
   "source": [
    "JYZJ = ss.Classes('九阴真经', duration=40)"
   ]
  },
  {
   "cell_type": "code",
   "execution_count": null,
   "metadata": {},
   "outputs": [],
   "source": [
    "# mentor_names = ['CHR', 'HL', 'FJ', 'YB', 'ZBF', 'JSJ', 'LH', 'WXY', 'QHD']\n",
    "# mentors = {}\n",
    "# for mt in mentor_names:\n",
    "#     mentors[mt] = pd.read_excel('../../Python_1on1/Mentors_available_time.xlsx', sheet_name=mt, index_col=0)\\\n",
    "#     .drop(['周', '每日空闲时间', '最少可排课时'], axis = 0).drop(['Unnamed: 14'], axis = 1)\n",
    "# mentors['HL']"
   ]
  },
  {
   "cell_type": "code",
   "execution_count": null,
   "metadata": {},
   "outputs": [],
   "source": [
    "# date = mentors['HL'].columns\n",
    "# time = mentors['HL'].index\n",
    "# time\n",
    "\n",
    "# # for x in time:\n",
    "# #     for y in date:\n",
    "# #         if mentors['HL'].loc[x, y] == 1:\n",
    "            \n",
    "# # avlb = \n",
    "# # avlb == 1"
   ]
  },
  {
   "cell_type": "code",
   "execution_count": null,
   "metadata": {},
   "outputs": [],
   "source": [
    "# start_h, end_h = tuple(datetime.datetime.strptime(x, '%H:%M').hour for x in mentors['HL'].index[0].split('-'))\n",
    "# start = [x + datetime.timedelta(hours = start_h) for x in mentors['HL'].columns]"
   ]
  },
  {
   "cell_type": "markdown",
   "metadata": {},
   "source": [
    "## 定义讲师邱处机"
   ]
  },
  {
   "cell_type": "code",
   "execution_count": null,
   "metadata": {},
   "outputs": [],
   "source": [
    "start_1 = '2019-02-03 19:00'\n",
    "end_1 = '2019-02-03 21:00'\n",
    "start_2 = '2019-02-05 19:00'\n",
    "end_2 = '2019-02-05 21:00'\n",
    "qiu_chuji = ss.Mentor(name = '邱处机', available = [(start_1, end_1),\n",
    "                                             (start_2, end_2)])\n",
    "print('讲师姓名：{}'.format(qiu_chuji.name))\n",
    "print('讲师可排课时间：{}'.format(qiu_chuji.available))"
   ]
  },
  {
   "cell_type": "markdown",
   "metadata": {},
   "source": [
    "## 定义学生"
   ]
  },
  {
   "cell_type": "markdown",
   "metadata": {},
   "source": [
    "定义学生杨康"
   ]
  },
  {
   "cell_type": "code",
   "execution_count": null,
   "metadata": {},
   "outputs": [],
   "source": [
    "yang_kang = ss.Student('杨康', [('2019-02-03 14:00', '2019-02-03 18:00'),\n",
    "                         ('2019-02-03 20:00', '2019-02-03 22:00'),\n",
    "                         ('2019-02-05 20:00', '2019-02-05 22:00')])"
   ]
  },
  {
   "cell_type": "markdown",
   "metadata": {},
   "source": [
    "定义学生杨过"
   ]
  },
  {
   "cell_type": "code",
   "execution_count": null,
   "metadata": {},
   "outputs": [],
   "source": [
    "yang_guo = ss.Student('杨过', [('2019-02-03 20:00', '2019-02-03 22:00'),\n",
    "                         ('2019-02-05 14:00', '2019-02-05 16:00'),\n",
    "                         ('2019-02-05 20:00', '2019-02-05 22:00')])"
   ]
  },
  {
   "cell_type": "markdown",
   "metadata": {},
   "source": [
    "## 预约课程"
   ]
  },
  {
   "cell_type": "markdown",
   "metadata": {},
   "source": [
    "初次预约课程"
   ]
  },
  {
   "cell_type": "code",
   "execution_count": null,
   "metadata": {
    "scrolled": false
   },
   "outputs": [],
   "source": [
    "qiu_chuji.init_appointment(JYZJ, yang_kang, start= '2019-02-03 19:30')\n",
    "print('{}老师，你的课程表如下：\\n{}\\n请提前做好准备！'.format(qiu_chuji.name, qiu_chuji.schedule))\n",
    "print('老师的剩余可用时间为\\n{}'.format(qiu_chuji.available))"
   ]
  },
  {
   "cell_type": "markdown",
   "metadata": {},
   "source": [
    "给第二个学生预约课程："
   ]
  },
  {
   "cell_type": "code",
   "execution_count": null,
   "metadata": {
    "scrolled": true
   },
   "outputs": [],
   "source": [
    "qiu_chuji.init_appointment(JYZJ, yang_guo, start= '2019-02-03 20:20')\n",
    "print('{}老师，你的课程表如下：\\n{}\\n请提前做好准备！'.format(qiu_chuji.name, qiu_chuji.schedule))\n",
    "print('老师的剩余可用时间为\\n{}'.format(qiu_chuji.available))"
   ]
  },
  {
   "cell_type": "markdown",
   "metadata": {},
   "source": [
    "杨康同学要排第二节课"
   ]
  },
  {
   "cell_type": "code",
   "execution_count": null,
   "metadata": {},
   "outputs": [],
   "source": [
    "qiu_chuji.init_appointment(JYZJ, yang_kang, start= '2019-02-05 20:20')\n",
    "print('{}老师，你的课程表如下：\\n{}\\n请提前做好准备！'.format(qiu_chuji.name, qiu_chuji.schedule))\n",
    "print('老师的剩余可用时间为\\n{}'.format(qiu_chuji.available))"
   ]
  },
  {
   "cell_type": "markdown",
   "metadata": {},
   "source": [
    "杨康同学要调课"
   ]
  },
  {
   "cell_type": "code",
   "execution_count": null,
   "metadata": {
    "scrolled": true
   },
   "outputs": [],
   "source": [
    "qiu_chuji.change_appointment(yang_kang, 0, '2019-02-05 19:00')\n",
    "print('{}老师，你的课程表如下：\\n{}\\n请提前做好准备！'.format(qiu_chuji.name, qiu_chuji.schedule))\n",
    "print('老师的剩余可用时间为\\n{}'.format(qiu_chuji.available))"
   ]
  },
  {
   "cell_type": "markdown",
   "metadata": {},
   "source": [
    "杨康同学的课程表："
   ]
  },
  {
   "cell_type": "code",
   "execution_count": null,
   "metadata": {},
   "outputs": [],
   "source": [
    "yang_kang.schedule = qiu_chuji.schedule[yang_kang.name]\n",
    "yang_kang.schedule"
   ]
  },
  {
   "cell_type": "markdown",
   "metadata": {},
   "source": [
    "杨过同学的课表："
   ]
  },
  {
   "cell_type": "code",
   "execution_count": null,
   "metadata": {},
   "outputs": [],
   "source": [
    "yang_guo.schedule = qiu_chuji.schedule[yang_guo.name]\n",
    "yang_guo.schedule"
   ]
  },
  {
   "cell_type": "markdown",
   "metadata": {},
   "source": [
    "## TODO\n",
    "\n",
    "* 如何匹配合适的老师？\n",
    "\n",
    "* 如何找到一段合适的上课时间？"
   ]
  },
  {
   "cell_type": "markdown",
   "metadata": {},
   "source": [
    "## TODO：排课表release版"
   ]
  },
  {
   "cell_type": "code",
   "execution_count": null,
   "metadata": {},
   "outputs": [],
   "source": [
    "start = '2019-03-27'\n",
    "end = '2019-06-26'"
   ]
  },
  {
   "cell_type": "code",
   "execution_count": null,
   "metadata": {},
   "outputs": [],
   "source": [
    "daterange = ss.date_range(start, end)\n",
    "parsed_start = ss.parse_time(start, str_format = '%Y-%m-%d')\n",
    "calendar.weekday(parsed_start.year, parsed_start.month, parsed_start.day)\n",
    "sch_day = []\n",
    "target = calendar.weekheader(3).split(' ').index('Tue')\n",
    "for i in range(6, len(daterange),7):\n",
    "    sch_day.append(daterange[i])\n",
    "sch_day[:12]"
   ]
  },
  {
   "cell_type": "markdown",
   "metadata": {},
   "source": [
    "# communicate模块，群发个性化学习任务"
   ]
  },
  {
   "cell_type": "code",
   "execution_count": 1,
   "metadata": {},
   "outputs": [
    {
     "name": "stdout",
     "output_type": "stream",
     "text": [
      "█\r"
     ]
    }
   ],
   "source": [
    "import pandas as pd\n",
    "import itchat as ic\n",
    "import stanager.communicate as sc"
   ]
  },
  {
   "cell_type": "markdown",
   "metadata": {},
   "source": [
    "## 登录微信"
   ]
  },
  {
   "cell_type": "code",
   "execution_count": 2,
   "metadata": {},
   "outputs": [
    {
     "name": "stderr",
     "output_type": "stream",
     "text": [
      "Getting uuid of QR code.\n",
      "Downloading QR code.\n",
      "Please scan the QR code to log in.\n",
      "Please press confirm on your phone.\n",
      "Loading the contact, this may take a little while.\n",
      "Login successfully as Udacity-Tyelcie\n"
     ]
    }
   ],
   "source": [
    "ic.auto_login()"
   ]
  },
  {
   "cell_type": "markdown",
   "metadata": {},
   "source": [
    "## 读取任务列表\n",
    "\n",
    "根据每个人当前的进度，制定了不同的任务，然后私信发给各位同学。用`pd.read_csv`或`pd.read_excel`也行，但一般都存在设密的石墨文档上，转存也有点麻烦。所以干脆把要抓的内容选中，Ctrl+C，然后用`pd.read_clipboard()`从剪贴板读取数据。"
   ]
  },
  {
   "cell_type": "code",
   "execution_count": 10,
   "metadata": {},
   "outputs": [
    {
     "data": {
      "text/html": [
       "<div>\n",
       "<style scoped>\n",
       "    .dataframe tbody tr th:only-of-type {\n",
       "        vertical-align: middle;\n",
       "    }\n",
       "\n",
       "    .dataframe tbody tr th {\n",
       "        vertical-align: top;\n",
       "    }\n",
       "\n",
       "    .dataframe thead th {\n",
       "        text-align: right;\n",
       "    }\n",
       "</style>\n",
       "<table border=\"1\" class=\"dataframe\">\n",
       "  <thead>\n",
       "    <tr style=\"text-align: right;\">\n",
       "      <th></th>\n",
       "      <th>姓名</th>\n",
       "      <th>Task 0</th>\n",
       "      <th>Task 1</th>\n",
       "    </tr>\n",
       "  </thead>\n",
       "  <tbody>\n",
       "    <tr>\n",
       "      <th>0</th>\n",
       "      <td>Lucifer</td>\n",
       "      <td>九阴真经上卷</td>\n",
       "      <td>九阴真经下卷</td>\n",
       "    </tr>\n",
       "    <tr>\n",
       "      <th>1</th>\n",
       "      <td>Tyelcie</td>\n",
       "      <td>九阴真经下卷</td>\n",
       "      <td>真经后面的小诗</td>\n",
       "    </tr>\n",
       "  </tbody>\n",
       "</table>\n",
       "</div>"
      ],
      "text/plain": [
       "        姓名  Task 0   Task 1\n",
       "0  Lucifer  九阴真经上卷   九阴真经下卷\n",
       "1  Tyelcie  九阴真经下卷  真经后面的小诗"
      ]
     },
     "execution_count": 10,
     "metadata": {},
     "output_type": "execute_result"
    }
   ],
   "source": [
    "students = pd.read_clipboard(sep='\\t')\n",
    "students"
   ]
  },
  {
   "cell_type": "markdown",
   "metadata": {},
   "source": [
    "如果要群发消息，注意检查任务序列和消息模板："
   ]
  },
  {
   "cell_type": "code",
   "execution_count": 11,
   "metadata": {},
   "outputs": [],
   "source": [
    "task_seq = 'Task 1'\n",
    "msg_template = 'Hello，{}同学，接下来三天你需要完成的任务是：\\n\\n{}'\n",
    "sc.send_task_group(task_seq, msg_template, students)"
   ]
  },
  {
   "cell_type": "markdown",
   "metadata": {},
   "source": [
    "如果需要单独发消息，注意修改学生姓名、任务序列和消息模板："
   ]
  },
  {
   "cell_type": "code",
   "execution_count": 13,
   "metadata": {},
   "outputs": [],
   "source": [
    "student = 'Tyelcie'\n",
    "task_seq = 'Task 1'\n",
    "msg_template = 'Hello，{}同学，接下来三天你需要完成的任务是：\\n\\n{}'\n",
    "sc.send_task_personal(student, task_seq, msg_template, students)"
   ]
  },
  {
   "cell_type": "markdown",
   "metadata": {},
   "source": [
    "暂时就这样。"
   ]
  }
 ],
 "metadata": {
  "kernelspec": {
   "display_name": "Python 3",
   "language": "python",
   "name": "python3"
  },
  "language_info": {
   "codemirror_mode": {
    "name": "ipython",
    "version": 3
   },
   "file_extension": ".py",
   "mimetype": "text/x-python",
   "name": "python",
   "nbconvert_exporter": "python",
   "pygments_lexer": "ipython3",
   "version": "3.7.1"
  }
 },
 "nbformat": 4,
 "nbformat_minor": 2
}
